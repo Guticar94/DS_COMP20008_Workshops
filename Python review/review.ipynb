{
    "cells": [
        {
            "attachments": {},
            "cell_type": "markdown",
            "metadata": {},
            "source": [
                "# Getting Started with Jupyter Notebook\n",
                "- Jupyter notebook is an extremely useful tool for developing and presenting projects (particularly in Python).  You can include code segments and view their output directly in your browser.  You can also add rich text, visualisations, equations and more.\n",
                "\n",
                "- The difference between this and Grok (from COMP10001) is that you can run your code line by line (without having to run all of your code at once for an output)."
            ]
        },
        {
            "attachments": {},
            "cell_type": "markdown",
            "metadata": {},
            "source": [
                "## Cells\n",
                "Jupyter notebooks contains two main types of cells:\n",
                "- Markdown cells: These can be used to contain text, equations and other non-code items.  The cell that you're reading right now is a markdown cell (double click on this cell to edit it). You can use [Markdown](https://www.markdownguide.org/) to format your text. If you prefer, you can also format your text using <b>HTML</b>.  Closing the editor (top right of this cell when in edit mode, or pressing `shift + enter`) will format and display your text. \n",
                "- Code cells: These contain code segments that can be executed individually. When executed, the output of the code will be displayed below the code cell. Press `shift + enter` to run the cell. Note that you could also use `print()` to show output.\n",
                "\n",
                "Try to understand the output of the following cell:"
            ]
        },
        {
            "cell_type": "code",
            "execution_count": 5,
            "metadata": {},
            "outputs": [
                {
                    "name": "stdout",
                    "output_type": "stream",
                    "text": [
                        "True\n"
                    ]
                },
                {
                    "data": {
                        "text/plain": [
                            "'z = 5.00'"
                        ]
                    },
                    "execution_count": 5,
                    "metadata": {},
                    "output_type": "execute_result"
                }
            ],
            "source": [
                "x = 2\n",
                "y = 3\n",
                "z = x + y\n",
                "concat = 'z = ' + str(z) + '.00'\n",
                "print(concat == f'z = {z:.2f}') # if you do not remember string formatting, look up f-strings\n",
                "concat"
            ]
        },
        {
            "attachments": {},
            "cell_type": "markdown",
            "metadata": {},
            "source": [
                "Note that if you swap the last two lines, the string will not be displayed.\n",
                "\n",
                "You can select a cell by clicking it. The buttons `+Code` and `+Text` will add the corresponding cell below the selected cell. Check out the `Commands` menu to see what other commands are available."
            ]
        },
        {
            "attachments": {},
            "cell_type": "markdown",
            "metadata": {},
            "source": [
                "# Python review\n",
                "\n",
                "This review assumes that you know basic Python well. The topics reviewed here are more of an intermediate level. Here is a list of the topics reviewed:\n",
                "\n",
                "- lists, sets, dictionaries\n",
                "- comprehensions\n",
                "- `zip()`\n",
                "- `numpy` and vectorisation\n",
                "- default and keyword arguments\n",
                "- lambda functions\n",
                "- `.strip()`, `.split()`, and `.join()`\n",
                "- Reading and writing text files\n",
                "\n",
                "Feel free to look up online anything that is not explained in this notebook. The only aspects explained in detail here are the ones that are likely to reappear in this subject."
            ]
        },
        {
            "attachments": {},
            "cell_type": "markdown",
            "metadata": {},
            "source": [
                "# Data structures and iteration"
            ]
        },
        {
            "attachments": {},
            "cell_type": "markdown",
            "metadata": {},
            "source": [
                "## Lists\n",
                "A list is a sequence of objects. Adding an item to the end of a list can be done using the `.append()` method. The following list contains the first 1000 perfect squares."
            ]
        },
        {
            "cell_type": "code",
            "execution_count": 6,
            "metadata": {},
            "outputs": [],
            "source": [
                "squares_1k = []\n",
                "for x in range(1, 1001):\n",
                "    squares_1k.append(x*x)"
            ]
        },
        {
            "attachments": {},
            "cell_type": "markdown",
            "metadata": {},
            "source": [
                "We also review how slicing works. The syntax `lst[a:b:x]` refers to a subsequence of the list, starting from index `a` (inclusive), ending on index `b` (exclusive), where every `x`-th item is selected. Default values are assumed if any of these are omitted."
            ]
        },
        {
            "cell_type": "code",
            "execution_count": 7,
            "metadata": {},
            "outputs": [
                {
                    "name": "stdout",
                    "output_type": "stream",
                    "text": [
                        "[1, 4, 9, 16, 25, 36, 49, 64, 81, 100]\n",
                        "[982081, 984064, 986049, 988036, 990025, 992016, 994009, 996004, 998001, 1000000]\n",
                        "[4, 16, 36, 64, 100, 144, 196, 256, 324, 400]\n"
                    ]
                }
            ],
            "source": [
                "print(squares_1k[:10]) # first ten squares\n",
                "print(squares_1k[-10:]) # last ten squares\n",
                "print(squares_1k[1:21:2]) # first ten even squares"
            ]
        },
        {
            "attachments": {},
            "cell_type": "markdown",
            "metadata": {},
            "source": [
                "## Sets\n",
                "\n",
                "A set is a collection of *unique* objects. Note that there is no notion of a sequence here.\n",
                "\n",
                "Suppose we want to build a set containing all possible digit sums of the first 1000 perfect squares. We first write a function that calculates the sum of digits of a number."
            ]
        },
        {
            "attachments": {},
            "cell_type": "markdown",
            "metadata": {},
            "source": [
                "<blockquote style=\"padding: 10px; background-color: #24292E;\">\n",
                "\n",
                "## Exercise\n",
                "\n",
                "1. Write a function `sum_digits(num)` that calculates the sum of digits of a positive integer `num`.  \n",
                "_Hint: You would need to perform some type conversion._"
            ]
        },
        {
            "cell_type": "code",
            "execution_count": 8,
            "metadata": {},
            "outputs": [
                {
                    "data": {
                        "text/plain": [
                            "24"
                        ]
                    },
                    "execution_count": 8,
                    "metadata": {},
                    "output_type": "execute_result"
                }
            ],
            "source": [
                "def sum_digits(num):\n",
                "    import numpy as np\n",
                "    ### answer 1 here\n",
                "    x = [int(val) for val in str(num)]\n",
                "    return np.sum(x)\n",
                "\n",
                "sum_digits(129123123)"
            ]
        },
        {
            "attachments": {},
            "cell_type": "markdown",
            "metadata": {},
            "source": [
                "You can create an empty set with `set()`. Note that `{}` is an empty dictionary instead. You can insert an object to a set with the `.add()` method. Trying to insert an object that the set already has will do nothing."
            ]
        },
        {
            "cell_type": "code",
            "execution_count": 9,
            "metadata": {},
            "outputs": [
                {
                    "data": {
                        "text/plain": [
                            "{1, 4, 7, 9, 10, 13, 16, 18, 19, 22, 25, 27, 28, 31, 34, 36, 37, 40, 43, 46}"
                        ]
                    },
                    "execution_count": 9,
                    "metadata": {},
                    "output_type": "execute_result"
                }
            ],
            "source": [
                "squares_dsum_set = set()\n",
                "for num in squares_1k:\n",
                "    squares_dsum_set.add(sum_digits(num))\n",
                "squares_dsum_set"
            ]
        },
        {
            "attachments": {},
            "cell_type": "markdown",
            "metadata": {},
            "source": [
                "Note that `set(iterable)` can convert `iterable` into a set, removing any duplicates. Searching for an object in a set is much faster than searching for an object in a list (constant time  vs linear time)."
            ]
        },
        {
            "attachments": {},
            "cell_type": "markdown",
            "metadata": {},
            "source": [
                "## Dictionaries\n",
                "\n",
                "A dictionary is a lookup table that maps unique *keys* to their respective *values*. You can insert a key-value pair into a dictionary with the syntax `dictionary[key] = value`. If `key` already exists in `dictionary`, then an overwrite would occur. Like sets, any lookup done with a dictionary also takes constant time only."
            ]
        },
        {
            "cell_type": "code",
            "execution_count": 10,
            "metadata": {},
            "outputs": [
                {
                    "data": {
                        "text/plain": [
                            "{1: 1,\n",
                            " 4: 4,\n",
                            " 9: 9,\n",
                            " 16: 7,\n",
                            " 25: 7,\n",
                            " 36: 9,\n",
                            " 49: 13,\n",
                            " 64: 10,\n",
                            " 81: 9,\n",
                            " 100: 1,\n",
                            " 121: 4,\n",
                            " 144: 9,\n",
                            " 169: 16,\n",
                            " 196: 16,\n",
                            " 225: 9,\n",
                            " 256: 13,\n",
                            " 289: 19,\n",
                            " 324: 9,\n",
                            " 361: 10,\n",
                            " 400: 4}"
                        ]
                    },
                    "execution_count": 10,
                    "metadata": {},
                    "output_type": "execute_result"
                }
            ],
            "source": [
                "squares_to_dsum = {} # empty dictionary\n",
                "for num in squares_1k[:20]:\n",
                "    squares_to_dsum[num] = sum_digits(num)\n",
                "squares_to_dsum"
            ]
        },
        {
            "attachments": {},
            "cell_type": "markdown",
            "metadata": {},
            "source": [
                "We can use `.keys()` to iterate through the keys of a dictionary, and `.values()` to iterate through the values of a dictionary. Using a for loop to directly iterate through a dictionary (`for x in dictionary`) will iterate through its keys.\n",
                "\n",
                "However, the most common way to iterate through a dictionary is to use the `.items()`, which goes through tuples, each containing a key and its corresponding value. The idiomatic approach is to unpack the tuple like so:"
            ]
        },
        {
            "cell_type": "code",
            "execution_count": 11,
            "metadata": {},
            "outputs": [
                {
                    "name": "stdout",
                    "output_type": "stream",
                    "text": [
                        "The digits of 1 sum to 1.\n",
                        "The digits of 4 sum to 4.\n",
                        "The digits of 9 sum to 9.\n",
                        "The digits of 16 sum to 7.\n",
                        "The digits of 25 sum to 7.\n",
                        "The digits of 36 sum to 9.\n",
                        "The digits of 49 sum to 13.\n",
                        "The digits of 64 sum to 10.\n",
                        "The digits of 81 sum to 9.\n",
                        "The digits of 100 sum to 1.\n",
                        "The digits of 121 sum to 4.\n",
                        "The digits of 144 sum to 9.\n",
                        "The digits of 169 sum to 16.\n",
                        "The digits of 196 sum to 16.\n",
                        "The digits of 225 sum to 9.\n",
                        "The digits of 256 sum to 13.\n",
                        "The digits of 289 sum to 19.\n",
                        "The digits of 324 sum to 9.\n",
                        "The digits of 361 sum to 10.\n",
                        "The digits of 400 sum to 4.\n"
                    ]
                }
            ],
            "source": [
                "for key, value in squares_to_dsum.items():\n",
                "    print(f'The digits of {key} sum to {value}.')"
            ]
        },
        {
            "attachments": {},
            "cell_type": "markdown",
            "metadata": {},
            "source": [
                "## List/Set/Dictionary Comprehensions\n",
                "\n",
                "When constructing `squares_1k`, `squares_dsum_set`, and `squares_to_dsum` above, we added each item explicitly within a for loop. There is a more convenient way to construct these data structures using *comprehensions*. The basic syntax is `expr_in_terms_of_x for x in iterable`. We reconstruct these three pieces of data using comprehensions:"
            ]
        },
        {
            "cell_type": "code",
            "execution_count": 12,
            "metadata": {},
            "outputs": [],
            "source": [
                "# list comprehension\n",
                "squares_1k = [x*x for x in range(1, 1001)]\n",
                "# set comprehension\n",
                "squares_dsum_set = {sum_digits(num) for num in squares_1k}\n",
                "# diciontary comprehension\n",
                "squares_to_dsum = {num: sum_digits(num) for num in squares_1k[:20]}"
            ]
        },
        {
            "attachments": {},
            "cell_type": "markdown",
            "metadata": {},
            "source": [
                "If you are unsure what these lines of code mean, compare them with the initial construction of `squares_1k`, `squares_dsum_set`, and `squares_to_dsum`. The results are the same, but written in a much simpler way."
            ]
        },
        {
            "attachments": {},
            "cell_type": "markdown",
            "metadata": {},
            "source": [
                "An extension is to incorporate the use of `if` to filter some iterates in a comprehension. Suppose we wanted to get the list of squares that are not divisible by 3:"
            ]
        },
        {
            "cell_type": "code",
            "execution_count": 13,
            "metadata": {},
            "outputs": [
                {
                    "data": {
                        "text/plain": [
                            "[1, 4, 16, 25, 49, 64, 100, 121, 169, 196]"
                        ]
                    },
                    "execution_count": 13,
                    "metadata": {},
                    "output_type": "execute_result"
                }
            ],
            "source": [
                "squares_nodiv3 = []\n",
                "for x in range(1, 1001):\n",
                "    if x % 3 != 0:\n",
                "        squares_nodiv3.append(x*x)\n",
                "squares_nodiv3[:10]"
            ]
        },
        {
            "attachments": {},
            "cell_type": "markdown",
            "metadata": {},
            "source": [
                "This can also be achieved by a one-line comprehension:"
            ]
        },
        {
            "cell_type": "code",
            "execution_count": 14,
            "metadata": {},
            "outputs": [
                {
                    "data": {
                        "text/plain": [
                            "[1, 4, 16, 25, 49, 64, 100, 121, 169, 196]"
                        ]
                    },
                    "execution_count": 14,
                    "metadata": {},
                    "output_type": "execute_result"
                }
            ],
            "source": [
                "squares_nodiv3 = [x*x for x in range(1, 1001) if x % 3 != 0]\n",
                "squares_nodiv3[:10]"
            ]
        },
        {
            "attachments": {},
            "cell_type": "markdown",
            "metadata": {},
            "source": [
                "A very similar syntax can be used with the `sum()/min()/max()` functions, without having to wrap the argument in another data structure. For example, the following counts how many of the first 1000 perfect squares contain the digit 0:\n"
            ]
        },
        {
            "cell_type": "code",
            "execution_count": 15,
            "metadata": {},
            "outputs": [],
            "source": [
                "#squares_1k"
            ]
        },
        {
            "cell_type": "code",
            "execution_count": 16,
            "metadata": {},
            "outputs": [
                {
                    "data": {
                        "text/plain": [
                            "416"
                        ]
                    },
                    "execution_count": 16,
                    "metadata": {},
                    "output_type": "execute_result"
                }
            ],
            "source": [
                "sum(1 for square in squares_1k if '0' in str(square))"
            ]
        },
        {
            "attachments": {},
            "cell_type": "markdown",
            "metadata": {},
            "source": [
                "<blockquote style=\"padding: 10px; background-color: #24292E;\">\n",
                "\n",
                "## Exercise\n",
                "\n",
                "2. Use a list comprehension to construct a list of all perfect *cubes* that start with the digit 1, up to one million (which is 100^3).\n",
                "\n",
                "3. Rewrite the `sum_digits` function from Exercise 1 without an explicit for loop."
            ]
        },
        {
            "cell_type": "code",
            "execution_count": 17,
            "metadata": {},
            "outputs": [
                {
                    "data": {
                        "text/plain": [
                            "'1'"
                        ]
                    },
                    "execution_count": 17,
                    "metadata": {},
                    "output_type": "execute_result"
                }
            ],
            "source": [
                "str(1002)[0]"
            ]
        },
        {
            "cell_type": "code",
            "execution_count": 18,
            "metadata": {},
            "outputs": [
                {
                    "name": "stdout",
                    "output_type": "stream",
                    "text": [
                        "[1, 1000, 1331, 1728, 2197, 2744, 3375, 4096, 4913, 5832, 6859, 1000000]\n"
                    ]
                }
            ],
            "source": [
                "### answer 2 here\n",
                "perfect_cubes = []\n",
                "[perfect_cubes.append(val**3) for val in range(1,101) if str(val)[0] == '1']\n",
                "print(perfect_cubes)"
            ]
        },
        {
            "cell_type": "code",
            "execution_count": 19,
            "metadata": {},
            "outputs": [],
            "source": [
                "def sum_digits(num):\n",
                "    ### answer 3 here, should only require one line\n",
                "    x = sum(int(val) for val in str(num))\n",
                "    return x"
            ]
        },
        {
            "attachments": {},
            "cell_type": "markdown",
            "metadata": {},
            "source": [
                "## Iteration with multiple sequences\n",
                "\n",
                "Sometimes we may have multiple sequences with corresponding entries to iterate through together. Suppose we have three lists, consisting of names, heights, and ages."
            ]
        },
        {
            "cell_type": "code",
            "execution_count": 20,
            "metadata": {},
            "outputs": [
                {
                    "name": "stdout",
                    "output_type": "stream",
                    "text": [
                        "Alec is 29 old and 1.72m tall.\n",
                        "Bindu is 32 old and 1.67m tall.\n",
                        "Clair is 21 old and 1.58m tall.\n",
                        "Dylan is 35 old and 1.63m tall.\n",
                        "Elliot is 24 old and 1.75m tall.\n"
                    ]
                }
            ],
            "source": [
                "names = ['Alec', 'Bindu', 'Clair', 'Dylan', 'Elliot']\n",
                "heights = [1.72, 1.67, 1.58, 1.63, 1.75]\n",
                "ages = [29, 32, 21, 35, 24]\n",
                "\n",
                "for i in range(len(names)):\n",
                "    print(f'{names[i]} is {ages[i]} old and {heights[i]}m tall.')"
            ]
        },
        {
            "attachments": {},
            "cell_type": "markdown",
            "metadata": {},
            "source": [
                "There is a more Pythonic alternative to the iteration above, which is to use the `zip()` function:"
            ]
        },
        {
            "cell_type": "code",
            "execution_count": 21,
            "metadata": {},
            "outputs": [
                {
                    "name": "stdout",
                    "output_type": "stream",
                    "text": [
                        "Alec is 29 old and 1.72m tall.\n",
                        "Bindu is 32 old and 1.67m tall.\n",
                        "Clair is 21 old and 1.58m tall.\n",
                        "Dylan is 35 old and 1.63m tall.\n",
                        "Elliot is 24 old and 1.75m tall.\n"
                    ]
                }
            ],
            "source": [
                "for name, height, age in zip(names, heights, ages):\n",
                "    print(f'{name} is {age} old and {height}m tall.')"
            ]
        },
        {
            "attachments": {},
            "cell_type": "markdown",
            "metadata": {},
            "source": [
                "Using `zip()` helps make the code slightly more readable, and saves coding time if each iteration were more complex. The output of performing `zip()` with $k$ inputs is an iterable object, where each element is $k$-tuple, with one element from each input. This is most easily seen by printing out the `zip` object after being converted into a list:"
            ]
        },
        {
            "cell_type": "code",
            "execution_count": 22,
            "metadata": {},
            "outputs": [
                {
                    "data": {
                        "text/plain": [
                            "[('Alec', 1.72, 29),\n",
                            " ('Bindu', 1.67, 32),\n",
                            " ('Clair', 1.58, 21),\n",
                            " ('Dylan', 1.63, 35),\n",
                            " ('Elliot', 1.75, 24)]"
                        ]
                    },
                    "execution_count": 22,
                    "metadata": {},
                    "output_type": "execute_result"
                }
            ],
            "source": [
                "list(zip(names, heights, ages))"
            ]
        },
        {
            "attachments": {},
            "cell_type": "markdown",
            "metadata": {},
            "source": [
                "Note that the syntax `for name, height, age in zip(names, heights, ages)` works because of tuple unpacking."
            ]
        },
        {
            "attachments": {},
            "cell_type": "markdown",
            "metadata": {},
            "source": [
                "## NumPy\n",
                "\n",
                "Here, we give a quick introduction to the NumPy module, the common Python package for scientific computing. The standard shorthand for NumPy in code is `np` (see import statement below). Lists in NumPy are known as *arrays*. Unlike Python lists, the objects in a NumPy array must all be of the same data type. One way to create NumPy arrays is to convert Python lists to NumPy arrays."
            ]
        },
        {
            "cell_type": "code",
            "execution_count": 23,
            "metadata": {},
            "outputs": [
                {
                    "data": {
                        "text/plain": [
                            "array([ 523,   67, 1024,    9])"
                        ]
                    },
                    "execution_count": 23,
                    "metadata": {},
                    "output_type": "execute_result"
                }
            ],
            "source": [
                "import numpy as np\n",
                "\n",
                "arr = np.array([523, 67, 1024, 9])\n",
                "arr # notice the equal width formatting"
            ]
        },
        {
            "attachments": {},
            "cell_type": "markdown",
            "metadata": {},
            "source": [
                "There are also NumPy functions to create special arrays, for example:"
            ]
        },
        {
            "cell_type": "code",
            "execution_count": 24,
            "metadata": {},
            "outputs": [
                {
                    "name": "stdout",
                    "output_type": "stream",
                    "text": [
                        "[0. 0. 0. 0. 0.]\n",
                        "[37 38 39 40 41 42]\n"
                    ]
                }
            ],
            "source": [
                "print(np.zeros(5)) # array of 5 zeros\n",
                "print(np.arange(37, 43)) # integers from 37 (inclusive) to 43 (exclusive)"
            ]
        },
        {
            "attachments": {},
            "cell_type": "markdown",
            "metadata": {},
            "source": [
                "A convenient feature of NumPy is *vectorisation*. If you had two lists of integers and wanted a third list consisting of the sum of corresponding integers from the two lists, the simplest approach looks like the following:"
            ]
        },
        {
            "cell_type": "code",
            "execution_count": 25,
            "metadata": {},
            "outputs": [
                {
                    "data": {
                        "text/plain": [
                            "[105, 74, 99, 95, 103]"
                        ]
                    },
                    "execution_count": 25,
                    "metadata": {},
                    "output_type": "execute_result"
                }
            ],
            "source": [
                "lst1 = [34, 52, 46, 74, 60]\n",
                "lst2 = [71, 22, 53, 21, 43]\n",
                "[x + y for x, y in zip(lst1, lst2)]"
            ]
        },
        {
            "attachments": {},
            "cell_type": "markdown",
            "metadata": {},
            "source": [
                "On the other hand, vectorisation allows NumPy arrays to be added together directly:"
            ]
        },
        {
            "cell_type": "code",
            "execution_count": 26,
            "metadata": {},
            "outputs": [
                {
                    "data": {
                        "text/plain": [
                            "array([105,  74,  99,  95, 103])"
                        ]
                    },
                    "execution_count": 26,
                    "metadata": {},
                    "output_type": "execute_result"
                }
            ],
            "source": [
                "arr1 = np.array(lst1)\n",
                "arr2 = np.array(lst2)\n",
                "arr1 + arr2"
            ]
        },
        {
            "attachments": {},
            "cell_type": "markdown",
            "metadata": {},
            "source": [
                "Vectorisation automatically applies the appropriate operations to all elements. If an operation is applied for an array and a single value, then the single value is broadcasted along the whole array:"
            ]
        },
        {
            "cell_type": "code",
            "execution_count": 27,
            "metadata": {},
            "outputs": [
                {
                    "name": "stdout",
                    "output_type": "stream",
                    "text": [
                        "[134 152 146 174 160]\n",
                        "[False  True False  True  True]\n"
                    ]
                }
            ],
            "source": [
                "print(arr1 + 100)\n",
                "print(arr1 > 50)"
            ]
        },
        {
            "attachments": {},
            "cell_type": "markdown",
            "metadata": {},
            "source": [
                "It is also possible to have NumPy arrays of higher dimensions. If you convert a list of lists of integers to a NumPy array, you will get a 2D array (each internal list is a row of the 2D array):"
            ]
        },
        {
            "cell_type": "code",
            "execution_count": 28,
            "metadata": {},
            "outputs": [
                {
                    "name": "stdout",
                    "output_type": "stream",
                    "text": [
                        "(4, 5)\n",
                        "20\n"
                    ]
                },
                {
                    "data": {
                        "text/plain": [
                            "array([[ 3,  7, 12, 19, 20],\n",
                            "       [ 2,  6,  8, 11, 17],\n",
                            "       [ 1,  4,  9, 15, 18],\n",
                            "       [ 5, 10, 13, 14, 16]])"
                        ]
                    },
                    "execution_count": 28,
                    "metadata": {},
                    "output_type": "execute_result"
                }
            ],
            "source": [
                "lists = [[3, 7, 12, 19, 20], [2, 6, 8, 11, 17], [1, 4, 9, 15, 18], [5, 10, 13, 14, 16]]\n",
                "arr2d = np.array(lists)\n",
                "print(arr2d.shape) # (number of rows, number of columns)\n",
                "print(arr2d.size) # number of entries\n",
                "arr2d"
            ]
        },
        {
            "attachments": {},
            "cell_type": "markdown",
            "metadata": {},
            "source": [
                "Going down by rows is known as axis 0, whereas going down by columns is known as axis 1. This distinguishment is important for functions with the `axis` argument, such as `.mean()`."
            ]
        },
        {
            "cell_type": "code",
            "execution_count": 29,
            "metadata": {},
            "outputs": [
                {
                    "name": "stdout",
                    "output_type": "stream",
                    "text": [
                        "10.5\n",
                        "[ 2.75  6.75 10.5  14.75 17.75]\n",
                        "[12.2  8.8  9.4 11.6]\n"
                    ]
                }
            ],
            "source": [
                "print(np.mean(arr2d)) # average of all 20 values\n",
                "print(np.mean(arr2d, axis=0)) # average across rows (one average per column)\n",
                "print(np.mean(arr2d, axis=1)) # avearge across columns (one average per row)"
            ]
        },
        {
            "attachments": {},
            "cell_type": "markdown",
            "metadata": {},
            "source": [
                "Indexing for Python lists also apply to NumPy arrays. However, NumPy allows even more flexible indexing. Examples:"
            ]
        },
        {
            "cell_type": "code",
            "execution_count": 30,
            "metadata": {},
            "outputs": [
                {
                    "name": "stdout",
                    "output_type": "stream",
                    "text": [
                        "[34 46 60]\n",
                        "[52 74 60]\n",
                        "[[ 8 11 17]\n",
                        " [ 9 15 18]\n",
                        " [13 14 16]]\n"
                    ]
                }
            ],
            "source": [
                "print(arr1[[0, 2, 4]]) # can use a list for indexing\n",
                "print(arr1[arr1 > 50]) # can use a boolean array for indexing\n",
                "print(arr2d[1:,2:]) # 2D indexing does not require two pairs of square brackets"
            ]
        },
        {
            "attachments": {},
            "cell_type": "markdown",
            "metadata": {},
            "source": [
                "The last example is a little complicated: it selects the sub-array starting from row 1, column 2, going both downwards and to the right."
            ]
        },
        {
            "attachments": {},
            "cell_type": "markdown",
            "metadata": {},
            "source": [
                "In Week 1's workshop, you will be introduced to the Pandas module, which is heavily used in this subject whenever we work with data. Its representation of tabular data is built upon NumPy, so the concepts surrounding vectorisation and 2D arrays here also apply for Pandas. Indexing will be covered in more detail, so do not worry about it for now.\n",
                "\n",
                "In this subject, we also use NumPy for some mathematical functions, e.g. logarithms and square roots. NumPy has plenty of other useful functions, be sure to look up NumPy if you find yourself trying to implement some tedious array or mathematical operation."
            ]
        },
        {
            "cell_type": "code",
            "execution_count": 43,
            "metadata": {},
            "outputs": [
                {
                    "name": "stdout",
                    "output_type": "stream",
                    "text": [
                        "6.0\n",
                        "4.1588830833596715\n",
                        "8.0\n"
                    ]
                }
            ],
            "source": [
                "print(np.log2(64)) # logarithm with base 2\n",
                "print(np.log(64)) # natural logarithm (base e)\n",
                "print(np.sqrt(64))"
            ]
        },
        {
            "attachments": {},
            "cell_type": "markdown",
            "metadata": {},
            "source": [
                "<blockquote style=\"padding: 10px; background-color: #24292E;\">\n",
                "\n",
                "## Exercise\n",
                "\n",
                "4. Use NumPy to find the sum of the first 100 perfect cubes."
            ]
        },
        {
            "cell_type": "code",
            "execution_count": 44,
            "metadata": {},
            "outputs": [
                {
                    "data": {
                        "text/plain": [
                            "1034076"
                        ]
                    },
                    "execution_count": 44,
                    "metadata": {},
                    "output_type": "execute_result"
                }
            ],
            "source": [
                "### answer 4 here\n",
                "np.sum(perfect_cubes)"
            ]
        },
        {
            "attachments": {},
            "cell_type": "markdown",
            "metadata": {},
            "source": [
                "# String methods\n",
                "\n",
                "A quick review of some helpful string methods:\n",
                "- `str.strip()`: Returns a string where whitespace (space, newline, tab, etc.) is removed from the start and end of `str`.\n",
                "- `str.split(sep)`: Returns a list of strings created by splitting up the original string by the string `sep`. If `sep` is not provided, then the original string is split by any whitespace.\n",
                "- `str.join(list of strings)`: Returns a string made by joining the list of strings together, where the strings are separated by `str`. You can think of this as the inverse of `.split()`."
            ]
        },
        {
            "cell_type": "code",
            "execution_count": 45,
            "metadata": {},
            "outputs": [
                {
                    "name": "stdout",
                    "output_type": "stream",
                    "text": [
                        "Alec \n",
                        "  Bindu\n",
                        " \n",
                        "   Clair  \n",
                        "Dylan\n",
                        "  Elliot \n",
                        "   \n",
                        "['Alec', 'Bindu', 'Clair', 'Dylan', 'Elliot']\n",
                        "Alec, Bindu, Clair, Dylan, Elliot\n"
                    ]
                }
            ],
            "source": [
                "ori_text = \"\"\"Alec ,  Bindu, \n",
                "   Clair  ,Dylan,  Elliot \n",
                "   \"\"\"\n",
                "\n",
                "name_list = []\n",
                "for token in ori_text.split(','):\n",
                "    print(token) # to show that the splitted strings are messy with whitespace\n",
                "    name_list.append(token.strip())\n",
                "print(name_list) # shows that whitespace has been removed\n",
                "\n",
                "cleaned_text = ', '.join(name_list) # put back together into one string\n",
                "print(cleaned_text)"
            ]
        },
        {
            "attachments": {},
            "cell_type": "markdown",
            "metadata": {},
            "source": [
                "# Files I/O"
            ]
        },
        {
            "attachments": {},
            "cell_type": "markdown",
            "metadata": {},
            "source": [
                "On Ed, the 'Files' panel on the left displays the files available. However, the default view only allows Jupyter notebooks to be opened. To access the other files, you have to switch to 'Full View' instead (top right menu under the three dots).\n",
                "\n",
                "In Python, the preferred way to open files is to use `with open(...) as fp:`, which avoids the need to explicitly write code to close the file. The `open(filename, mode='r')` function must be called with a filename argument, and optionally takes another argument for the mode:\n",
                "- 'r' (default) opens a file for reading\n",
                "- 'w' opens a file for writing (any existing content is overwritten)\n",
                "- 'a' opens a file for appending\n",
                "\n",
                "After obtaining a file pointer `fp`, the following methods are possible in read mode:\n",
                "- `fp.read()`: Returns all content as a single string.\n",
                "- `fp.readlines()`: Returns a list of strings, one string for each line. These strings would end with `'\\n'`.\n",
                "- `fp.readline()`: Returns the next line as a string.\n",
                "\n",
                "If the file is opened in write/append mode, then writing/appending is down with `fp.write()`. Unlike `print()`, `fp.write()` does not automatically end with a newline."
            ]
        },
        {
            "cell_type": "code",
            "execution_count": 46,
            "metadata": {},
            "outputs": [
                {
                    "name": "stdout",
                    "output_type": "stream",
                    "text": [
                        "sepal_length,sepal_width,petal_length,petal_width,species\n",
                        "\n"
                    ]
                }
            ],
            "source": [
                "with open('iris.csv', 'r') as fp: # the 'r' here is not needed\n",
                "    print(fp.readline()) # print out the first line of the file"
            ]
        },
        {
            "attachments": {},
            "cell_type": "markdown",
            "metadata": {},
            "source": [
                "<blockquote style=\"padding: 10px; background-color: #24292E;\">\n",
                "\n",
                "## Exercise\n",
                "\n",
                "5. Read in the comma-separated values file `iris.csv`, then use `.split()` and `.join()` to rewrite the file such that the values are separated by tabs (`'\\t'`) instead of commas. Write the new contents into the file `iris.tsv`."
            ]
        },
        {
            "cell_type": "code",
            "execution_count": 58,
            "metadata": {},
            "outputs": [],
            "source": [
                "### answer 5 here\n",
                "with open('iris.tsv', 'w') as fp:\n",
                "    fp.write('\\t'.join(open('iris.csv', 'r').read().split(sep=',')))"
            ]
        },
        {
            "attachments": {},
            "cell_type": "markdown",
            "metadata": {},
            "source": [
                "# Functions"
            ]
        },
        {
            "attachments": {},
            "cell_type": "markdown",
            "metadata": {},
            "source": [
                "## Function arguments\n",
                "In this subject, we will often call functions from other modules, which may offer a large range of flexibility in the form of having many possible function arguments. Because of this, many functions have *default arguments*, which are arguments that assume a default value. The default value is only used if another value is not provided when the function is called.\n",
                "\n",
                "As an example, the `mode` argument in `open()` has the default value `'r'`. If no mode is provided when `open()` is used, then the file will be opened in read mode by default. It is optional to provide a value for default arguments when calling a function. You can also write functions with default arguments (which is where the default value is specified)."
            ]
        },
        {
            "cell_type": "code",
            "execution_count": 59,
            "metadata": {},
            "outputs": [],
            "source": [
                "def print_info(name, height=None, age=None):\n",
                "    if height is None:\n",
                "        height_str = 'unknown'\n",
                "    else:\n",
                "        height_str = str(height)+'m'\n",
                "\n",
                "    if age is None:\n",
                "        age_str = 'unknown'\n",
                "    else:\n",
                "        age_str = str(age)+' years'\n",
                "\n",
                "    print(f'{name}: height {height_str}, age {age_str}')"
            ]
        },
        {
            "attachments": {},
            "cell_type": "markdown",
            "metadata": {},
            "source": [
                "For the function above, `name` must be provided whenever `print_info()` is called, but `height` and `age` may not need to be specified."
            ]
        },
        {
            "cell_type": "code",
            "execution_count": 60,
            "metadata": {},
            "outputs": [
                {
                    "name": "stdout",
                    "output_type": "stream",
                    "text": [
                        "Alec: height unknown, age unknown\n"
                    ]
                }
            ],
            "source": [
                "print_info('Alec')"
            ]
        },
        {
            "attachments": {},
            "cell_type": "markdown",
            "metadata": {},
            "source": [
                "If you choose to specify values for default arguments, it is common to include their keywords (think of keyword as the argument name). This is because some functions may have many default arguments, and we may only want to overwrite a handful of those values."
            ]
        },
        {
            "cell_type": "code",
            "execution_count": 61,
            "metadata": {},
            "outputs": [
                {
                    "name": "stdout",
                    "output_type": "stream",
                    "text": [
                        "Alec: height 1.72m, age 29 years\n",
                        "Bindu: height 1.67m, age unknown\n",
                        "Clair: height unknown, age 21 years\n",
                        "Dylan: height 1.63m, age unknown\n",
                        "Elliot: height 1.75m, age 24 years\n"
                    ]
                }
            ],
            "source": [
                "print_info('Alec', height=1.72, age=29) # specify height and age\n",
                "print_info('Bindu', height=1.67) # specify height only\n",
                "print_info('Clair', age=21) # specify age only\n",
                "print_info('Dylan', 1.63) # specify height only, not as common without keyword\n",
                "print_info('Elliot', age=24, height=1.75) # note order does not matter if keywords are specified"
            ]
        },
        {
            "attachments": {},
            "cell_type": "markdown",
            "metadata": {},
            "source": [
                "## Lambda functions\n",
                "\n",
                "It is possible for function arguments to be functions themselves. For example, `sorted()` can take a `key` argument that is a function, which is applied to the items to be compared (before comparison). For example, suppose we want to sort the first 100 perfect squares by their digit sum:"
            ]
        },
        {
            "cell_type": "code",
            "execution_count": 39,
            "metadata": {},
            "outputs": [
                {
                    "data": {
                        "text/plain": [
                            "[1,\n",
                            " 100,\n",
                            " 10000,\n",
                            " 1000000,\n",
                            " 4,\n",
                            " 121,\n",
                            " 400,\n",
                            " 10201,\n",
                            " 12100,\n",
                            " 40000,\n",
                            " 16,\n",
                            " 25,\n",
                            " 1024,\n",
                            " 1600,\n",
                            " 2401,\n",
                            " 2500,\n",
                            " 22201,\n",
                            " 102400,\n",
                            " 160000,\n",
                            " 240100]"
                        ]
                    },
                    "execution_count": 39,
                    "metadata": {},
                    "output_type": "execute_result"
                }
            ],
            "source": [
                "squares_sorted = sorted(squares_1k, key=sum_digits)\n",
                "squares_sorted[:20]"
            ]
        },
        {
            "attachments": {},
            "cell_type": "markdown",
            "metadata": {},
            "source": [
                "An alternative is to use a *lambda function*, rather than defining a function via `def sum_digits(num)` etc. This is useful if `sum_digits` has not already been defined."
            ]
        },
        {
            "cell_type": "code",
            "execution_count": 40,
            "metadata": {},
            "outputs": [
                {
                    "data": {
                        "text/plain": [
                            "[1,\n",
                            " 100,\n",
                            " 10000,\n",
                            " 1000000,\n",
                            " 4,\n",
                            " 121,\n",
                            " 400,\n",
                            " 10201,\n",
                            " 12100,\n",
                            " 40000,\n",
                            " 16,\n",
                            " 25,\n",
                            " 1024,\n",
                            " 1600,\n",
                            " 2401,\n",
                            " 2500,\n",
                            " 22201,\n",
                            " 102400,\n",
                            " 160000,\n",
                            " 240100]"
                        ]
                    },
                    "execution_count": 40,
                    "metadata": {},
                    "output_type": "execute_result"
                }
            ],
            "source": [
                "squares_sorted = sorted(squares_1k, key=lambda x: sum(int(d) for d in str(x)))\n",
                "squares_sorted[:20]"
            ]
        },
        {
            "attachments": {},
            "cell_type": "markdown",
            "metadata": {},
            "source": [
                "Note that the functionality of `lambda x: sum(int(d) for d in str(x))` is equivalent to the implementation of `sum_digits` (see Exercise 3). In general, the expression `lambda args: expr` is equivalent to\n",
                "\n",
                "```\n",
                "def func(args):\n",
                "    return expr\n",
                "```\n",
                "\n",
                "except that the name `func` does not exist. For this reason lambda functions are also known as *anonymous* functions. If lambda expressions are assigned to a variable, then the variable can be used as a function:"
            ]
        },
        {
            "cell_type": "code",
            "execution_count": 41,
            "metadata": {},
            "outputs": [
                {
                    "data": {
                        "text/plain": [
                            "5"
                        ]
                    },
                    "execution_count": 41,
                    "metadata": {},
                    "output_type": "execute_result"
                }
            ],
            "source": [
                "add = lambda x, y: x+y # note lambda functions can take multiple arguments\n",
                "add(2, 3)"
            ]
        },
        {
            "attachments": {},
            "cell_type": "markdown",
            "metadata": {},
            "source": [
                "Lambda functions can simply be used as a shorthand. These would reappear when we meet functions from the Pandas module that can take in other functions as arguments."
            ]
        },
        {
            "attachments": {},
            "cell_type": "markdown",
            "metadata": {},
            "source": [
                "<blockquote style=\"padding: 10px; background-color: #24292E;\">\n",
                "\n",
                "## Exercise\n",
                "\n",
                "6. Use `zip()` and a dictionary comprehension to create a dictionary that maps the following names to the corresponding height.\n",
                "\n",
                "7. Sort the list of names according to their corresponding heights, making use of a lambda function.  \n",
                "_Hint: You can use_ `height_dict` _from Exercise 6 in your lambda function._"
            ]
        },
        {
            "cell_type": "code",
            "execution_count": 73,
            "metadata": {},
            "outputs": [
                {
                    "data": {
                        "text/plain": [
                            "{'Alec': 1.72, 'Bindu': 1.67, 'Clair': 1.58, 'Dylan': 1.63, 'Elliot': 1.75}"
                        ]
                    },
                    "execution_count": 73,
                    "metadata": {},
                    "output_type": "execute_result"
                }
            ],
            "source": [
                "names = ['Alec', 'Bindu', 'Clair', 'Dylan', 'Elliot']\n",
                "heights = [1.72, 1.67, 1.58, 1.63, 1.75]\n",
                "height_dict = {name:height for name,height in zip(names,heights)}### answer 6 here\n",
                "height_dict"
            ]
        },
        {
            "cell_type": "code",
            "execution_count": 90,
            "metadata": {},
            "outputs": [
                {
                    "data": {
                        "text/plain": [
                            "{'Alec': 1.72, 'Bindu': 1.67, 'Clair': 1.58, 'Dylan': 1.63, 'Elliot': 1.75}"
                        ]
                    },
                    "execution_count": 90,
                    "metadata": {},
                    "output_type": "execute_result"
                }
            ],
            "source": [
                "### answer 7 here\n",
                "{k:v for k,v in sorted(height_dict.items(), key=lambda item: item[0])}"
            ]
        }
    ],
    "metadata": {
        "kernelspec": {
            "display_name": "Python 3 (ipykernel)",
            "language": "python",
            "name": "python3"
        },
        "language_info": {
            "codemirror_mode": {
                "name": "ipython",
                "version": 3
            },
            "file_extension": ".py",
            "mimetype": "text/x-python",
            "name": "python",
            "nbconvert_exporter": "python",
            "pygments_lexer": "ipython3",
            "version": "3.9.6"
        }
    },
    "nbformat": 4,
    "nbformat_minor": 2
}
