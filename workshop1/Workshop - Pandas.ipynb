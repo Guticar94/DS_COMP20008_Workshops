{
    "metadata": {
        "kernelspec": {
            "name": "python3",
            "display_name": "Python 3 (ipykernel)",
            "language": "python"
        }
    },
    "nbformat": 4,
    "nbformat_minor": 4,
    "cells": [
        {
            "attachments": {},
            "cell_type": "markdown",
            "metadata": {},
            "source": [
                "# Introduction"
            ]
        },
        {
            "attachments": {},
            "cell_type": "markdown",
            "metadata": {},
            "source": [
                "Data proccessing pipelines move and transform data from one source to another such that it can be stored, used for analytics / Machine Learning, or combined with other data structures. In COMP20008, we will cover an end-to-end process to preprocess data, conduct analysis, perform Machine Learning tasks, and communicate findings.\n",
                "\n",
                "Here's a diagram provided depicting the \"Data Science\" pipeline we will cover in this subject:\n",
                "\n",
                "\u003cimg src=\"images/pipeline.png\" width=\"600\" height=\"300\"\u003e \n",
                "\n",
                "## Workshop 1 Overview\n",
                "- On your first week as an intern, your manager wants you to familiarise yourself with the data, practice loading the data onto Pandas Series and DataFrames, and answer some basic summary questions about the ticket sales in 2018. \n",
                "- The dataset this week is a summarised ticket sales for 30 movies in 2018 through the EODP system.\n",
                "- These sales are summed up from more than 2000 movie sessions (which you will be presented with next week)\n",
                "\n",
                "Here's an example of what the dataset looks like:\n",
                "\n",
                "\u003ctable border=\"1\" class=\"dataframe\"\u003e\n",
                "  \u003cthead\u003e\n",
                "    \u003ctr style=\"text-align: right;\"\u003e\n",
                "      \u003cth\u003e\u003c/th\u003e\n",
                "      \u003cth\u003emovie_name\u003c/th\u003e\n",
                "      \u003cth\u003eclassification\u003c/th\u003e\n",
                "      \u003cth\u003etickets_sold\u003c/th\u003e\n",
                "      \u003cth\u003emax_capacity\u003c/th\u003e\n",
                "    \u003c/tr\u003e\n",
                "  \u003c/thead\u003e\n",
                "  \u003ctbody\u003e\n",
                "    \u003ctr\u003e\n",
                "      \u003cth\u003e0\u003c/th\u003e\n",
                "      \u003ctd\u003eA Quiet Place\u003c/td\u003e\n",
                "      \u003ctd\u003eM\u003c/td\u003e\n",
                "      \u003ctd\u003e103813\u003c/td\u003e\n",
                "      \u003ctd\u003e427725\u003c/td\u003e\n",
                "    \u003c/tr\u003e\n",
                "    \u003ctr\u003e\n",
                "      \u003cth\u003e1\u003c/th\u003e\n",
                "      \u003ctd\u003eAlpha\u003c/td\u003e\n",
                "      \u003ctd\u003ePG\u003c/td\u003e\n",
                "      \u003ctd\u003e103596\u003c/td\u003e\n",
                "      \u003ctd\u003e422525\u003c/td\u003e\n",
                "    \u003c/tr\u003e\n",
                "    \u003ctr\u003e\n",
                "      \u003cth\u003e2\u003c/th\u003e\n",
                "      \u003ctd\u003eAn Interview with God\u003c/td\u003e\n",
                "      \u003ctd\u003ePG\u003c/td\u003e\n",
                "      \u003ctd\u003e104182\u003c/td\u003e\n",
                "      \u003ctd\u003e426575\u003c/td\u003e\n",
                "    \u003c/tr\u003e\n",
                "    \u003ctr\u003e\n",
                "      \u003cth\u003e3\u003c/th\u003e\n",
                "      \u003ctd\u003eAnimal World\u003c/td\u003e\n",
                "      \u003ctd\u003eG\u003c/td\u003e\n",
                "      \u003ctd\u003e108293\u003c/td\u003e\n",
                "      \u003ctd\u003e427300\u003c/td\u003e\n",
                "    \u003c/tr\u003e\n",
                "    \u003ctr\u003e\n",
                "      \u003cth\u003e4\u003c/th\u003e\n",
                "      \u003ctd\u003eAnt-Man and the Wasp\u003c/td\u003e\n",
                "      \u003ctd\u003ePG\u003c/td\u003e\n",
                "      \u003ctd\u003e104631\u003c/td\u003e\n",
                "      \u003ctd\u003e429350\u003c/td\u003e\n",
                "    \u003c/tr\u003e\n",
                "    \u003ctr\u003e\n",
                "      \u003cth\u003e5\u003c/th\u003e\n",
                "      \u003ctd\u003eAquaman\u003c/td\u003e\n",
                "      \u003ctd\u003eM\u003c/td\u003e\n",
                "      \u003ctd\u003e102655\u003c/td\u003e\n",
                "      \u003ctd\u003e423100\u003c/td\u003e\n",
                "    \u003c/tr\u003e\n",
                "    \u003ctr\u003e\n",
                "      \u003cth\u003e6\u003c/th\u003e\n",
                "      \u003ctd\u003eAvengers: Infinity War\u003c/td\u003e\n",
                "      \u003ctd\u003eM\u003c/td\u003e\n",
                "      \u003ctd\u003e112178\u003c/td\u003e\n",
                "      \u003ctd\u003e424325\u003c/td\u003e\n",
                "    \u003c/tr\u003e\n",
                "    \u003ctr\u003e\n",
                "      \u003cth\u003e7\u003c/th\u003e\n",
                "      \u003ctd\u003eA-X-L\u003c/td\u003e\n",
                "      \u003ctd\u003ePG\u003c/td\u003e\n",
                "      \u003ctd\u003e99339\u003c/td\u003e\n",
                "      \u003ctd\u003e423200\u003c/td\u003e\n",
                "    \u003c/tr\u003e\n",
                "    \u003ctr\u003e\n",
                "      \u003cth\u003e8\u003c/th\u003e\n",
                "      \u003ctd\u003eBetween Worlds\u003c/td\u003e\n",
                "      \u003ctd\u003eMA15+\u003c/td\u003e\n",
                "      \u003ctd\u003e103208\u003c/td\u003e\n",
                "      \u003ctd\u003e423375\u003c/td\u003e\n",
                "    \u003c/tr\u003e\n",
                "    \u003ctr\u003e\n",
                "      \u003cth\u003e9\u003c/th\u003e\n",
                "      \u003ctd\u003eBlack Panther\u003c/td\u003e\n",
                "      \u003ctd\u003eM\u003c/td\u003e\n",
                "      \u003ctd\u003e108831\u003c/td\u003e\n",
                "      \u003ctd\u003e423375\u003c/td\u003e\n",
                "    \u003c/tr\u003e\n",
                "  \u003c/tbody\u003e\n",
                "\u003c/table\u003e\n",
                "\n",
                "As you can see, we have 4 features (also known as *columns* or *attributes*): Movie Name, Classification, Total Tickets Sold, and Total Capacity.\n",
                "\n",
                "## Learning objectives\n",
                "Become proficient in manipulating tabular data using Python's `pandas` package. `pandas` introduces powerful data structures for data analysis, time series, and statistical modelling. \n",
                "\n",
                "- Understand the data structures in the `Pandas` library: `Series`, `DataFrame`\n",
                "- Construct or load a Series or DataFrame using `Pandas`\n",
                "- Slicing and indexing using the `.loc[]` and `.iloc[]` methods\n",
                "- How to work with Series and DataFrames using *methods* and *attributes*\n",
                "- 5 Number Summary Statistics\n",
                "- Sorting, Filtering, and Grouping DataFrames\n",
                "- Problem Solving using a given dataset. \n",
                "- Learn to view and find functions using the API Documentation\n",
                "\n",
                "## Workshop Overview\n",
                "\n",
                "1. Load the `week1_booking_summary.csv` using `pandas`. Previously in COMP10001 you would have used the `csv` library.\n",
                "2. Calculate the occupancy rate for each movie.\n",
                "3. Get the classification rating of `'Ralph Breaks the Internet'`.\n",
                "4. Query and return the movie with the highest number of tickets sold.\n",
                "5. Sort the dataframe by Classification (ascending), Occupancy (descending), then Number of Tickets Sold (descending). Avoid outputting the Max Capacity feature. \n",
                "6. Filter the data to *only* show PG-Rated Movie.\n",
                "7. How many movies are there *in each classification category*? For each category, which movie has the *highest* sales? Which one has the *lowest* sales?"
            ]
        },
        {
            "attachments": {},
            "cell_type": "markdown",
            "metadata": {},
            "source": [
                "# Getting Started with Jupyter Notebook\n",
                "- Jupyter notebook is an extremely useful tool for developing and presenting projects (particularly in python).  You can include code segments and view their output directly in your browser.  You can also add rich text, visualisations, equations and more.\n",
                "\n",
                "- The difference between this and Grok (from COMP10001) is that you can run your code line by line (without having to run all of your code at once for an output)."
            ]
        },
        {
            "attachments": {},
            "cell_type": "markdown",
            "metadata": {},
            "source": [
                "## Cells\n",
                "Jupyter notebooks contains two main types of cells:\n",
                "- Markdown cells: These can be used to contain text, equations and other non-code items.  The cell that you're reading right now is a markdown cell.  You can use [Markdown](https://www.markdownguide.org/) to format your text.  If you prefer, you can also format your text using \u003cb\u003eHTML\u003c/b\u003e.  Clicking the \u003cbutton class='btn btn-default btn-xs'\u003e\u003ci class=\"fa-play fa\"\u003e\u003c/i\u003e\u003cspan class=\"toolbar-btn-label\"\u003eRun\u003c/span\u003e\u003c/button\u003e button button will format and display your text.\n",
                "- Code cells: These contain code segments that can be executed individually.  When executed, the output of the code will be displayed below the code cell.\n",
                "\n",
                "## Keyboard Shortcuts\n",
                "Cell Running shortcuts:\n",
                "- _You can tell you are selecting a cell when the outline is colored is green_\n",
                "- `shift + enter` : Run current cell - keyboard shortcut for the \u003cbutton class='btn btn-default btn-xs'\u003e\u003ci class=\"fa-play fa\"\u003e\u003c/i\u003e\u003cspan class=\"toolbar-btn-label\"\u003eRun\u003c/span\u003e\u003c/button\u003e button\n",
                "- `ctrl + enter` : Run selected cells\n",
                "\n",
                "Command mode (press `esc` to enter):\n",
                "- - _You can tell you are in Command Mode when the outline is colored is blue_\n",
                "- Enter command mode pressing `esc` (blue highlight)\n",
                "- `a` to create a cell **above**\n",
                "- `b` to create a cell **below**\n",
                "- `dd` (double d) to **delete** a cell\n",
                "- `m` to make the cell render in **markdown**\n",
                "- `r` to make the cell render in **raw** text\n",
                "- `y` to make the cell render python code\n",
                "- `enter` to \"edit\" the cell\n",
                "\n",
                "Code Shortcuts:\n",
                "- `shift + tab` : brings function/method arguments up"
            ]
        },
        {
            "attachments": {},
            "cell_type": "markdown",
            "metadata": {},
            "source": [
                "# Pandas\n",
                "Depending on the use case, data come in various shapes and structures. One of the most common forms is *tabular data*, or data tables (think Excel spreadsheets or SQL tables). It's both human-readable and machine-readable, and it's easy to *vectorize* any transformation to our data. Here's a visualisation of what a DataFrame looks like:\n",
                "![Dataframe](images/dataframe.jpg)\n",
                "\n",
                "To work with tabular data in Python, we use the library `pandas`. We **strongly recommend** you bookmark the [API reference (Documentation)](https://pandas.pydata.org/pandas-docs/stable/reference/index.html) which will serve as a bible for this subject."
            ]
        },
        {
            "attachments": {},
            "cell_type": "markdown",
            "metadata": {},
            "source": [
                "## Installing Packages\n",
                "***If you are running this on the Ed Forum or via Anaconda (Python), you won't need to do this.***\n",
                "\n",
                "Depending on the installation of Jupyter Notebook and your OS (Operating System), you may need to *install* the `pandas` package. To do so, run the command that matches your system:\n",
                "```python\n",
                "# for Windows with only Python installed\n",
                "pip install pandas\n",
                "\n",
                "# for Mac or Linux with Python3 installed\n",
                "pip3 install pandas\n",
                "```"
            ]
        },
        {
            "attachments": {},
            "cell_type": "markdown",
            "metadata": {},
            "source": [
                "Like `collections` from COMP10001, we import `pandas` in the same manner. The only note here is that we are importing and giving it the alias `pd` to shorten the amount of code we need to write (`pd.DataFrame()` vs `pandas.DataFrame()`)"
            ]
        },
        {
            "cell_type": "code",
            "execution_count": 1,
            "metadata": {},
            "outputs": [],
            "source": [
                "import pandas as pd"
            ]
        },
        {
            "attachments": {},
            "cell_type": "markdown",
            "metadata": {},
            "source": [
                "## \u003cu\u003eConcept: Series\u003c/u\u003e\n",
                "A Series is a One-dimensional array-like object containing the array of data and an associated array of data labels called index. It's best to think of Series as a single column in Excel, or a vertical `list`-like object. Here's a visual example of what it looks like:\n",
                "\n",
                "![Dataframe](images/series.jpg)"
            ]
        },
        {
            "attachments": {},
            "cell_type": "markdown",
            "metadata": {},
            "source": [
                "### Creating a Pandas Series"
            ]
        },
        {
            "cell_type": "code",
            "execution_count": 6,
            "metadata": {},
            "outputs": [],
            "source": [
                "# define a list of values\n",
                "sales_list = [107512, 103208, 99388, 103838, 104631]\n",
                "\n",
                "# create a Pandas series\n",
                "sales_series = pd.Series(sales_list)"
            ]
        },
        {
            "cell_type": "code",
            "execution_count": 7,
            "metadata": {},
            "outputs": [
                {
                    "data": {
                        "text/plain": "0    107512\n1    103208\n2     99388\n3    103838\n4    104631\ndtype: int64"
                    },
                    "execution_count": 7,
                    "metadata": {},
                    "output_type": "execute_result"
                }
            ],
            "source": [
                "# notice how we can just \"display\" the variable without printing it\n",
                "sales_series"
            ]
        },
        {
            "attachments": {},
            "cell_type": "markdown",
            "metadata": {},
            "source": [
                "### \u003cu\u003eConcept: Attributes and Methods of a Python object\u003c/u\u003e\n",
                "The Pandas `series` also comes with useful attributes in methods. To be specific:  \n",
                "1. Attributes are static variables that are stored when the object is created.\n",
                "2. Methods are functions that a pre-defined with that object.\n",
                "\n",
                "Examples of `series` attributes:\n",
                "- `series.index` attribute (returns the index field like `dict.keys()`)\n",
                "- `series.values` attribute (returns the values like `dict.values()`)\n",
                "\n",
                "Examples of `series` methods:\n",
                "- `series.mean()` method (computes the average)\n",
                "- `series.sum()` method (computes the grand total sum)\n",
                "\n",
                "To get all the attributes and methods available, you can call `help(pd.Series)`. \n",
                "\n",
                "\n",
                "There are a lot of functions, methods and attributes in the `pandas` library, so we won't be covering all of them in this subject. We encourage students to look up the [API Documentation](https://pandas.pydata.org/pandas-docs/stable/reference/api/pandas.Series.html) if you wish to use something outside the scope of this subject.\n",
                "\n",
                ""
            ]
        },
        {
            "cell_type": "code",
            "execution_count": 8,
            "metadata": {},
            "outputs": [
                {
                    "name": "stdout",
                    "output_type": "stream",
                    "text": "RangeIndex(start=0, stop=5, step=1)\n[107512 103208  99388 103838 104631]\n"
                }
            ],
            "source": [
                "# The default indexing starts from zero\n",
                "print(sales_series.index)\n",
                "\n",
                "# Retrieve the values of the series\n",
                "print(sales_series.values)"
            ]
        },
        {
            "cell_type": "code",
            "execution_count": 9,
            "metadata": {},
            "outputs": [
                {
                    "name": "stdout",
                    "output_type": "stream",
                    "text": "The Kissing Booth                    107512\nBetween Worlds                       103208\nSicario: Day of the Soldado           99388\nSpider-Man: Into the Spider-Verse    103838\nAnt-Man and the Wasp                 104631\ndtype: int64\n"
                }
            ],
            "source": [
                "# Create your own index using lists\n",
                "# Indexes don't have to be integers!\n",
                "new_index = ['The Kissing Booth', \n",
                "            'Between Worlds', \n",
                "            'Sicario: Day of the Soldado', \n",
                "            'Spider-Man: Into the Spider-Verse', \n",
                "            'Ant-Man and the Wasp']\n",
                "\n",
                "sales_series.index  = new_index\n",
                "\n",
                "# Verify the index has been changed\n",
                "print(sales_series)"
            ]
        },
        {
            "attachments": {},
            "cell_type": "markdown",
            "metadata": {},
            "source": [
                "Like dictionaries, we can access values using `[]`"
            ]
        },
        {
            "cell_type": "code",
            "execution_count": 10,
            "metadata": {},
            "outputs": [
                {
                    "name": "stdout",
                    "output_type": "stream",
                    "text": "104631\n"
                }
            ],
            "source": [
                "# Access the sales values based on index\n",
                "print(sales_series['Ant-Man and the Wasp'])"
            ]
        },
        {
            "cell_type": "code",
            "execution_count": 11,
            "metadata": {},
            "outputs": [
                {
                    "name": "stdout",
                    "output_type": "stream",
                    "text": "Dragon Ball Super: Origin of the Saiyans    105982\nAnimal World                                108293\nAvengers: Infinity War                      112178\nA Quiet Place                               103813\nBumblebee                                   106562\ndtype: int64\n"
                }
            ],
            "source": [
                "# Create a series from a python dict\n",
                "sales_dict = {'Dragon Ball Super: Origin of the Saiyans': 105982,\n",
                "              'Animal World': 108293,\n",
                "              'Avengers: Infinity War': 112178,\n",
                "              'A Quiet Place': 103813,\n",
                "              'Bumblebee': 106562}\n",
                "\n",
                "sales_series_dict = pd.Series(sales_dict)\n",
                "print(sales_series_dict)"
            ]
        },
        {
            "attachments": {},
            "cell_type": "markdown",
            "metadata": {},
            "source": [
                "If we want to concatenate two series together, we can use `pd.concat([LIST OF SERIES], axis='rows')`."
            ]
        },
        {
            "cell_type": "code",
            "execution_count": 12,
            "metadata": {},
            "outputs": [
                {
                    "name": "stdout",
                    "output_type": "stream",
                    "text": "The Kissing Booth                           107512\nBetween Worlds                              103208\nSicario: Day of the Soldado                  99388\nSpider-Man: Into the Spider-Verse           103838\nAnt-Man and the Wasp                        104631\nDragon Ball Super: Origin of the Saiyans    105982\nAnimal World                                108293\nAvengers: Infinity War                      112178\nA Quiet Place                               103813\nBumblebee                                   106562\ndtype: int64\n"
                }
            ],
            "source": [
                "# Vertically concatenate two series\n",
                "sales_series = pd.concat([sales_series, sales_series_dict], axis='rows')\n",
                "print(sales_series)"
            ]
        },
        {
            "attachments": {},
            "cell_type": "markdown",
            "metadata": {},
            "source": [
                "\u003cblockquote style=\"padding: 10px; background-color: #ebf5fb;\"\u003e\n",
                "\n",
                "## Class Discussion Question  \n",
                "Is `pd.concat` a method or attribute?"
            ]
        },
        {
            "attachments": {},
            "cell_type": "markdown",
            "metadata": {},
            "source": [
                "Here are some operations that we can do (such as filtering the data).\n",
                "- Here, we use `.loc` to *locate* the values that fulfill the conditions. \n",
                "- `.iloc` can also be used which *locates* the *indicies* that correspond to the slice provided"
            ]
        },
        {
            "cell_type": "code",
            "execution_count": 13,
            "metadata": {},
            "outputs": [
                {
                    "data": {
                        "text/plain": "104631"
                    },
                    "execution_count": 13,
                    "metadata": {},
                    "output_type": "execute_result"
                }
            ],
            "source": [
                "# Slicing the series using index\n",
                "sales_series.loc['Ant-Man and the Wasp']"
            ]
        },
        {
            "cell_type": "code",
            "execution_count": 14,
            "metadata": {},
            "outputs": [
                {
                    "data": {
                        "text/plain": "104631"
                    },
                    "execution_count": 14,
                    "metadata": {},
                    "output_type": "execute_result"
                }
            ],
            "source": [
                "# This is an alternative syntax\n",
                "sales_series['Ant-Man and the Wasp']"
            ]
        },
        {
            "cell_type": "code",
            "execution_count": 15,
            "metadata": {},
            "outputs": [
                {
                    "data": {
                        "text/plain": "Sicario: Day of the Soldado    99388\ndtype: int64"
                    },
                    "execution_count": 15,
                    "metadata": {},
                    "output_type": "execute_result"
                }
            ],
            "source": [
                "# Slicing the series using a boolean array operation \n",
                "sales_series.loc[sales_series \u003c 100000]"
            ]
        },
        {
            "cell_type": "code",
            "execution_count": 16,
            "metadata": {},
            "outputs": [
                {
                    "data": {
                        "text/plain": "The Kissing Booth                    107512\nBetween Worlds                       103208\nSicario: Day of the Soldado           99388\nSpider-Man: Into the Spider-Verse    103838\nAnt-Man and the Wasp                 104631\ndtype: int64"
                    },
                    "execution_count": 16,
                    "metadata": {},
                    "output_type": "execute_result"
                }
            ],
            "source": [
                "# Slicing the series using iloc\n",
                "sales_series.iloc[0:5]"
            ]
        },
        {
            "cell_type": "code",
            "execution_count": 17,
            "metadata": {},
            "outputs": [
                {
                    "data": {
                        "text/plain": "The Kissing Booth                           215024\nBetween Worlds                              206416\nSicario: Day of the Soldado                 198776\nSpider-Man: Into the Spider-Verse           207676\nAnt-Man and the Wasp                        209262\nDragon Ball Super: Origin of the Saiyans    211964\nAnimal World                                216586\nAvengers: Infinity War                      224356\nA Quiet Place                               207626\nBumblebee                                   213124\ndtype: int64"
                    },
                    "execution_count": 17,
                    "metadata": {},
                    "output_type": "execute_result"
                }
            ],
            "source": [
                "# Doubling the values of the series object\n",
                "doubled = sales_series * 2\n",
                "doubled"
            ]
        },
        {
            "cell_type": "code",
            "execution_count": 18,
            "metadata": {},
            "outputs": [
                {
                    "data": {
                        "text/plain": "105540.5"
                    },
                    "execution_count": 18,
                    "metadata": {},
                    "output_type": "execute_result"
                }
            ],
            "source": [
                "# Finding the average value of the series\n",
                "sales_series.mean()"
            ]
        },
        {
            "cell_type": "code",
            "execution_count": 19,
            "metadata": {},
            "outputs": [
                {
                    "name": "stdout",
                    "output_type": "stream",
                    "text": "Movie Name\nThe Kissing Booth                           107512\nBetween Worlds                              103208\nSicario: Day of the Soldado                  99388\nSpider-Man: Into the Spider-Verse           103838\nAnt-Man and the Wasp                        104631\nDragon Ball Super: Origin of the Saiyans    105982\nAnimal World                                108293\nAvengers: Infinity War                      112178\nA Quiet Place                               103813\nBumblebee                                   106562\nName: Total tickets sold, dtype: int64\n"
                }
            ],
            "source": [
                "# Defining the column name\n",
                "sales_series.name = 'Total tickets sold'\n",
                "# Defining the name of the index\n",
                "sales_series.index.name = 'Movie Name'\n",
                "\n",
                "print(sales_series)"
            ]
        },
        {
            "attachments": {},
            "cell_type": "markdown",
            "metadata": {},
            "source": [
                "\u003cblockquote style=\"padding: 10px; background-color: #FFD392;\"\u003e\n",
                "\n",
                "## Exercise\n",
                "1. 1. Find all movies that sold more than 100,000 but under 105,000 movie tickets.  \n",
                "_Hint: You may want to use `.loc[]` for this._  \n",
                "\n",
                "\n",
                "2. Find the grand total number of movie tickets sold."
            ]
        },
        {
            "cell_type": "code",
            "execution_count": 22,
            "metadata": {},
            "outputs": [
                {
                    "data": {
                        "text/plain": "Movie Name\nBetween Worlds                       103208\nSpider-Man: Into the Spider-Verse    103838\nAnt-Man and the Wasp                 104631\nA Quiet Place                        103813\nName: Total tickets sold, dtype: int64"
                    },
                    "execution_count": 22,
                    "metadata": {},
                    "output_type": "execute_result"
                }
            ],
            "source": [
                "### ANSWER 1 HERE\n",
                "sales_series.loc[(sales_series\u003e100000)\u0026(sales_series\u003c105000)]"
            ]
        },
        {
            "cell_type": "code",
            "execution_count": 23,
            "metadata": {},
            "outputs": [
                {
                    "data": {
                        "text/plain": "1055405"
                    },
                    "execution_count": 23,
                    "metadata": {},
                    "output_type": "execute_result"
                }
            ],
            "source": [
                "### ANSWER 2 HERE\n",
                "sales_series.sum()"
            ]
        },
        {
            "attachments": {},
            "cell_type": "markdown",
            "metadata": {},
            "source": [
                "## \u003cu\u003eConcept: Dataframe\u003c/u\u003e\n",
                "A DataFrame has both row and column indices like a `series` and contains many useful methods to aid your analysis. \n",
                "- [API reference](https://pandas.pydata.org/pandas-docs/stable/reference/index.html) details all of the functionality provided by `pandas`.  \n",
                "- You will particularly need consult the [DataFrame](https://pandas.pydata.org/pandas-docs/stable/reference/frame.html) reference page.\n",
                "\n",
                "\n",
                "Here's a visualisation of what a DataFrame looks like:\n",
                "![Dataframe](images/dataframe.jpg)"
            ]
        },
        {
            "attachments": {},
            "cell_type": "markdown",
            "metadata": {},
            "source": [
                "### Working with Pandas Dataframe"
            ]
        },
        {
            "cell_type": "code",
            "execution_count": 24,
            "metadata": {},
            "outputs": [],
            "source": [
                "tickets_sold_dict =  {'The Kissing Booth': 107512,\n",
                "                        'Between Worlds': 103208,\n",
                "                        'Sicario: Day of the Soldado': 99388,\n",
                "                        'Spider-Man: Into the Spider-Verse': 103838,\n",
                "                        'Ant-Man and the Wasp': 104631, \n",
                "                        'Dragon Ball Super: Origin of the Saiyans': 105982,\n",
                "                        'Animal World': 108293,\n",
                "                        'Avengers: Infinity War': 112178,\n",
                "                        'A Quiet Place': 103813,\n",
                "                        'Bumblebee': 106562}\n",
                "\n",
                "tickets_sold = pd.Series(tickets_sold_dict)"
            ]
        },
        {
            "cell_type": "code",
            "execution_count": 25,
            "metadata": {},
            "outputs": [],
            "source": [
                "max_capacity_dict = {'A Quiet Place': 427725,\n",
                "                      'Animal World': 427300,\n",
                "                      'Ant-Man and the Wasp': 429350,\n",
                "                      'Avengers: Infinity War': 424325,\n",
                "                      'Between Worlds': 423375,\n",
                "                      'Bumblebee': 427950,\n",
                "                      'Dragon Ball Super: Origin of the Saiyans': 423225,\n",
                "                      'Sicario: Day of the Soldado': 427950,\n",
                "                      'Spider-Man: Into the Spider-Verse': 428375,\n",
                "                      'The Kissing Booth': 418750}\n",
                "\n",
                "max_capacity = pd.Series(max_capacity_dict)"
            ]
        },
        {
            "cell_type": "code",
            "execution_count": 26,
            "metadata": {},
            "outputs": [
                {
                    "data": {
                        "text/html": "\u003cdiv\u003e\n\u003cstyle scoped\u003e\n    .dataframe tbody tr th:only-of-type {\n        vertical-align: middle;\n    }\n\n    .dataframe tbody tr th {\n        vertical-align: top;\n    }\n\n    .dataframe thead th {\n        text-align: right;\n    }\n\u003c/style\u003e\n\u003ctable border=\"1\" class=\"dataframe\"\u003e\n  \u003cthead\u003e\n    \u003ctr style=\"text-align: right;\"\u003e\n      \u003cth\u003e\u003c/th\u003e\n      \u003cth\u003etickets_sold\u003c/th\u003e\n      \u003cth\u003emax_capacity\u003c/th\u003e\n    \u003c/tr\u003e\n  \u003c/thead\u003e\n  \u003ctbody\u003e\n    \u003ctr\u003e\n      \u003cth\u003eA Quiet Place\u003c/th\u003e\n      \u003ctd\u003e103813\u003c/td\u003e\n      \u003ctd\u003e427725\u003c/td\u003e\n    \u003c/tr\u003e\n    \u003ctr\u003e\n      \u003cth\u003eAnimal World\u003c/th\u003e\n      \u003ctd\u003e108293\u003c/td\u003e\n      \u003ctd\u003e427300\u003c/td\u003e\n    \u003c/tr\u003e\n    \u003ctr\u003e\n      \u003cth\u003eAnt-Man and the Wasp\u003c/th\u003e\n      \u003ctd\u003e104631\u003c/td\u003e\n      \u003ctd\u003e429350\u003c/td\u003e\n    \u003c/tr\u003e\n    \u003ctr\u003e\n      \u003cth\u003eAvengers: Infinity War\u003c/th\u003e\n      \u003ctd\u003e112178\u003c/td\u003e\n      \u003ctd\u003e424325\u003c/td\u003e\n    \u003c/tr\u003e\n    \u003ctr\u003e\n      \u003cth\u003eBetween Worlds\u003c/th\u003e\n      \u003ctd\u003e103208\u003c/td\u003e\n      \u003ctd\u003e423375\u003c/td\u003e\n    \u003c/tr\u003e\n    \u003ctr\u003e\n      \u003cth\u003eBumblebee\u003c/th\u003e\n      \u003ctd\u003e106562\u003c/td\u003e\n      \u003ctd\u003e427950\u003c/td\u003e\n    \u003c/tr\u003e\n    \u003ctr\u003e\n      \u003cth\u003eDragon Ball Super: Origin of the Saiyans\u003c/th\u003e\n      \u003ctd\u003e105982\u003c/td\u003e\n      \u003ctd\u003e423225\u003c/td\u003e\n    \u003c/tr\u003e\n    \u003ctr\u003e\n      \u003cth\u003eSicario: Day of the Soldado\u003c/th\u003e\n      \u003ctd\u003e99388\u003c/td\u003e\n      \u003ctd\u003e427950\u003c/td\u003e\n    \u003c/tr\u003e\n    \u003ctr\u003e\n      \u003cth\u003eSpider-Man: Into the Spider-Verse\u003c/th\u003e\n      \u003ctd\u003e103838\u003c/td\u003e\n      \u003ctd\u003e428375\u003c/td\u003e\n    \u003c/tr\u003e\n    \u003ctr\u003e\n      \u003cth\u003eThe Kissing Booth\u003c/th\u003e\n      \u003ctd\u003e107512\u003c/td\u003e\n      \u003ctd\u003e418750\u003c/td\u003e\n    \u003c/tr\u003e\n  \u003c/tbody\u003e\n\u003c/table\u003e\n\u003c/div\u003e",
                        "text/plain": "                                          tickets_sold  max_capacity\nA Quiet Place                                   103813        427725\nAnimal World                                    108293        427300\nAnt-Man and the Wasp                            104631        429350\nAvengers: Infinity War                          112178        424325\nBetween Worlds                                  103208        423375\nBumblebee                                       106562        427950\nDragon Ball Super: Origin of the Saiyans        105982        423225\nSicario: Day of the Soldado                      99388        427950\nSpider-Man: Into the Spider-Verse               103838        428375\nThe Kissing Booth                               107512        418750"
                    },
                    "execution_count": 26,
                    "metadata": {},
                    "output_type": "execute_result"
                }
            ],
            "source": [
                "# create a DataFrame object from the series objects\n",
                "sales_df = pd.DataFrame({'tickets_sold': tickets_sold, \n",
                "                         'max_capacity': max_capacity})\n",
                "sales_df"
            ]
        },
        {
            "attachments": {},
            "cell_type": "markdown",
            "metadata": {},
            "source": [
                "As you can see, a DataFrame is essentially made up of several `series` (i.e columns or features)."
            ]
        },
        {
            "cell_type": "code",
            "execution_count": 27,
            "metadata": {},
            "outputs": [
                {
                    "data": {
                        "text/plain": "A Quiet Place                               103813\nAnimal World                                108293\nAnt-Man and the Wasp                        104631\nAvengers: Infinity War                      112178\nBetween Worlds                              103208\nBumblebee                                   106562\nDragon Ball Super: Origin of the Saiyans    105982\nSicario: Day of the Soldado                  99388\nSpider-Man: Into the Spider-Verse           103838\nThe Kissing Booth                           107512\nName: tickets_sold, dtype: int64"
                    },
                    "execution_count": 27,
                    "metadata": {},
                    "output_type": "execute_result"
                }
            ],
            "source": [
                "# access a specific column (like dict[key])\n",
                "sales_df['tickets_sold']"
            ]
        },
        {
            "cell_type": "code",
            "execution_count": 28,
            "metadata": {},
            "outputs": [
                {
                    "data": {
                        "text/html": "\u003cdiv\u003e\n\u003cstyle scoped\u003e\n    .dataframe tbody tr th:only-of-type {\n        vertical-align: middle;\n    }\n\n    .dataframe tbody tr th {\n        vertical-align: top;\n    }\n\n    .dataframe thead th {\n        text-align: right;\n    }\n\u003c/style\u003e\n\u003ctable border=\"1\" class=\"dataframe\"\u003e\n  \u003cthead\u003e\n    \u003ctr style=\"text-align: right;\"\u003e\n      \u003cth\u003e\u003c/th\u003e\n      \u003cth\u003emax_capacity\u003c/th\u003e\n      \u003cth\u003etickets_sold\u003c/th\u003e\n    \u003c/tr\u003e\n  \u003c/thead\u003e\n  \u003ctbody\u003e\n    \u003ctr\u003e\n      \u003cth\u003eA Quiet Place\u003c/th\u003e\n      \u003ctd\u003e427725\u003c/td\u003e\n      \u003ctd\u003e103813\u003c/td\u003e\n    \u003c/tr\u003e\n    \u003ctr\u003e\n      \u003cth\u003eAnimal World\u003c/th\u003e\n      \u003ctd\u003e427300\u003c/td\u003e\n      \u003ctd\u003e108293\u003c/td\u003e\n    \u003c/tr\u003e\n    \u003ctr\u003e\n      \u003cth\u003eAnt-Man and the Wasp\u003c/th\u003e\n      \u003ctd\u003e429350\u003c/td\u003e\n      \u003ctd\u003e104631\u003c/td\u003e\n    \u003c/tr\u003e\n    \u003ctr\u003e\n      \u003cth\u003eAvengers: Infinity War\u003c/th\u003e\n      \u003ctd\u003e424325\u003c/td\u003e\n      \u003ctd\u003e112178\u003c/td\u003e\n    \u003c/tr\u003e\n    \u003ctr\u003e\n      \u003cth\u003eBetween Worlds\u003c/th\u003e\n      \u003ctd\u003e423375\u003c/td\u003e\n      \u003ctd\u003e103208\u003c/td\u003e\n    \u003c/tr\u003e\n    \u003ctr\u003e\n      \u003cth\u003eBumblebee\u003c/th\u003e\n      \u003ctd\u003e427950\u003c/td\u003e\n      \u003ctd\u003e106562\u003c/td\u003e\n    \u003c/tr\u003e\n    \u003ctr\u003e\n      \u003cth\u003eDragon Ball Super: Origin of the Saiyans\u003c/th\u003e\n      \u003ctd\u003e423225\u003c/td\u003e\n      \u003ctd\u003e105982\u003c/td\u003e\n    \u003c/tr\u003e\n    \u003ctr\u003e\n      \u003cth\u003eSicario: Day of the Soldado\u003c/th\u003e\n      \u003ctd\u003e427950\u003c/td\u003e\n      \u003ctd\u003e99388\u003c/td\u003e\n    \u003c/tr\u003e\n    \u003ctr\u003e\n      \u003cth\u003eSpider-Man: Into the Spider-Verse\u003c/th\u003e\n      \u003ctd\u003e428375\u003c/td\u003e\n      \u003ctd\u003e103838\u003c/td\u003e\n    \u003c/tr\u003e\n    \u003ctr\u003e\n      \u003cth\u003eThe Kissing Booth\u003c/th\u003e\n      \u003ctd\u003e418750\u003c/td\u003e\n      \u003ctd\u003e107512\u003c/td\u003e\n    \u003c/tr\u003e\n  \u003c/tbody\u003e\n\u003c/table\u003e\n\u003c/div\u003e",
                        "text/plain": "                                          max_capacity  tickets_sold\nA Quiet Place                                   427725        103813\nAnimal World                                    427300        108293\nAnt-Man and the Wasp                            429350        104631\nAvengers: Infinity War                          424325        112178\nBetween Worlds                                  423375        103208\nBumblebee                                       427950        106562\nDragon Ball Super: Origin of the Saiyans        423225        105982\nSicario: Day of the Soldado                     427950         99388\nSpider-Man: Into the Spider-Verse               428375        103838\nThe Kissing Booth                               418750        107512"
                    },
                    "execution_count": 28,
                    "metadata": {},
                    "output_type": "execute_result"
                }
            ],
            "source": [
                "# access multiple column (note the order)\n",
                "sales_df[['max_capacity', 'tickets_sold']]"
            ]
        },
        {
            "cell_type": "code",
            "execution_count": 31,
            "metadata": {},
            "outputs": [
                {
                    "data": {
                        "text/html": "\u003cdiv\u003e\n\u003cstyle scoped\u003e\n    .dataframe tbody tr th:only-of-type {\n        vertical-align: middle;\n    }\n\n    .dataframe tbody tr th {\n        vertical-align: top;\n    }\n\n    .dataframe thead th {\n        text-align: right;\n    }\n\u003c/style\u003e\n\u003ctable border=\"1\" class=\"dataframe\"\u003e\n  \u003cthead\u003e\n    \u003ctr style=\"text-align: right;\"\u003e\n      \u003cth\u003e\u003c/th\u003e\n      \u003cth\u003etickets_sold\u003c/th\u003e\n      \u003cth\u003emax_capacity\u003c/th\u003e\n    \u003c/tr\u003e\n  \u003c/thead\u003e\n  \u003ctbody\u003e\n    \u003ctr\u003e\n      \u003cth\u003eSicario: Day of the Soldado\u003c/th\u003e\n      \u003ctd\u003e99388\u003c/td\u003e\n      \u003ctd\u003e427950\u003c/td\u003e\n    \u003c/tr\u003e\n  \u003c/tbody\u003e\n\u003c/table\u003e\n\u003c/div\u003e",
                        "text/plain": "                             tickets_sold  max_capacity\nSicario: Day of the Soldado         99388        427950"
                    },
                    "execution_count": 31,
                    "metadata": {},
                    "output_type": "execute_result"
                }
            ],
            "source": [
                "# find movies which did not sell 100k tickets\n",
                "sales_df[sales_df['tickets_sold'] \u003c 100000]"
            ]
        },
        {
            "attachments": {},
            "cell_type": "markdown",
            "metadata": {},
            "source": [
                "\u003cblockquote style=\"padding: 10px; background-color: #ebf5fb;\"\u003e\n",
                "\n",
                "## Class Discussion Question  \n",
                "What do you notice about the order of the movies?"
            ]
        },
        {
            "attachments": {},
            "cell_type": "markdown",
            "metadata": {},
            "source": [
                "## Reading and saving CSV's using Pandas\n",
                "Previously in COMP10001, you would have used the `csv` library. Putting those days behind us, we can now introduce a simple way of reading in files.\n",
                "\n",
                "\n",
                "Here, we will use the `df.head()` method which displays the first 5 rows by default. Correspondingly, the `df.tail()` method displays the last 5 rows by default."
            ]
        },
        {
            "cell_type": "code",
            "execution_count": 32,
            "metadata": {},
            "outputs": [
                {
                    "data": {
                        "text/html": "\u003cdiv\u003e\n\u003cstyle scoped\u003e\n    .dataframe tbody tr th:only-of-type {\n        vertical-align: middle;\n    }\n\n    .dataframe tbody tr th {\n        vertical-align: top;\n    }\n\n    .dataframe thead th {\n        text-align: right;\n    }\n\u003c/style\u003e\n\u003ctable border=\"1\" class=\"dataframe\"\u003e\n  \u003cthead\u003e\n    \u003ctr style=\"text-align: right;\"\u003e\n      \u003cth\u003e\u003c/th\u003e\n      \u003cth\u003emovie_name\u003c/th\u003e\n      \u003cth\u003eclassification\u003c/th\u003e\n      \u003cth\u003etickets_sold\u003c/th\u003e\n      \u003cth\u003emax_capacity\u003c/th\u003e\n    \u003c/tr\u003e\n  \u003c/thead\u003e\n  \u003ctbody\u003e\n    \u003ctr\u003e\n      \u003cth\u003e0\u003c/th\u003e\n      \u003ctd\u003eA Quiet Place\u003c/td\u003e\n      \u003ctd\u003eM\u003c/td\u003e\n      \u003ctd\u003e103813\u003c/td\u003e\n      \u003ctd\u003e427725\u003c/td\u003e\n    \u003c/tr\u003e\n    \u003ctr\u003e\n      \u003cth\u003e1\u003c/th\u003e\n      \u003ctd\u003eAlpha\u003c/td\u003e\n      \u003ctd\u003ePG\u003c/td\u003e\n      \u003ctd\u003e103596\u003c/td\u003e\n      \u003ctd\u003e422525\u003c/td\u003e\n    \u003c/tr\u003e\n    \u003ctr\u003e\n      \u003cth\u003e2\u003c/th\u003e\n      \u003ctd\u003eAn Interview with God\u003c/td\u003e\n      \u003ctd\u003ePG\u003c/td\u003e\n      \u003ctd\u003e104182\u003c/td\u003e\n      \u003ctd\u003e426575\u003c/td\u003e\n    \u003c/tr\u003e\n    \u003ctr\u003e\n      \u003cth\u003e3\u003c/th\u003e\n      \u003ctd\u003eAnimal World\u003c/td\u003e\n      \u003ctd\u003eG\u003c/td\u003e\n      \u003ctd\u003e108293\u003c/td\u003e\n      \u003ctd\u003e427300\u003c/td\u003e\n    \u003c/tr\u003e\n    \u003ctr\u003e\n      \u003cth\u003e4\u003c/th\u003e\n      \u003ctd\u003eAnt-Man and the Wasp\u003c/td\u003e\n      \u003ctd\u003ePG\u003c/td\u003e\n      \u003ctd\u003e104631\u003c/td\u003e\n      \u003ctd\u003e429350\u003c/td\u003e\n    \u003c/tr\u003e\n    \u003ctr\u003e\n      \u003cth\u003e5\u003c/th\u003e\n      \u003ctd\u003eAquaman\u003c/td\u003e\n      \u003ctd\u003eM\u003c/td\u003e\n      \u003ctd\u003e102655\u003c/td\u003e\n      \u003ctd\u003e423100\u003c/td\u003e\n    \u003c/tr\u003e\n    \u003ctr\u003e\n      \u003cth\u003e6\u003c/th\u003e\n      \u003ctd\u003eAvengers: Infinity War\u003c/td\u003e\n      \u003ctd\u003eM\u003c/td\u003e\n      \u003ctd\u003e112178\u003c/td\u003e\n      \u003ctd\u003e424325\u003c/td\u003e\n    \u003c/tr\u003e\n    \u003ctr\u003e\n      \u003cth\u003e7\u003c/th\u003e\n      \u003ctd\u003eA-X-L\u003c/td\u003e\n      \u003ctd\u003ePG\u003c/td\u003e\n      \u003ctd\u003e99339\u003c/td\u003e\n      \u003ctd\u003e423200\u003c/td\u003e\n    \u003c/tr\u003e\n    \u003ctr\u003e\n      \u003cth\u003e8\u003c/th\u003e\n      \u003ctd\u003eBetween Worlds\u003c/td\u003e\n      \u003ctd\u003eMA15+\u003c/td\u003e\n      \u003ctd\u003e103208\u003c/td\u003e\n      \u003ctd\u003e423375\u003c/td\u003e\n    \u003c/tr\u003e\n    \u003ctr\u003e\n      \u003cth\u003e9\u003c/th\u003e\n      \u003ctd\u003eBlack Panther\u003c/td\u003e\n      \u003ctd\u003eM\u003c/td\u003e\n      \u003ctd\u003e108831\u003c/td\u003e\n      \u003ctd\u003e423375\u003c/td\u003e\n    \u003c/tr\u003e\n  \u003c/tbody\u003e\n\u003c/table\u003e\n\u003c/div\u003e",
                        "text/plain": "               movie_name classification  tickets_sold  max_capacity\n0           A Quiet Place              M        103813        427725\n1                   Alpha             PG        103596        422525\n2   An Interview with God             PG        104182        426575\n3            Animal World              G        108293        427300\n4    Ant-Man and the Wasp             PG        104631        429350\n5                 Aquaman              M        102655        423100\n6  Avengers: Infinity War              M        112178        424325\n7                   A-X-L             PG         99339        423200\n8          Between Worlds          MA15+        103208        423375\n9           Black Panther              M        108831        423375"
                    },
                    "execution_count": 32,
                    "metadata": {},
                    "output_type": "execute_result"
                }
            ],
            "source": [
                "# create a DataFrame from a csv file\n",
                "total_sales = pd.read_csv('booking_summary.csv')\n",
                "total_sales.head(10)"
            ]
        },
        {
            "cell_type": "code",
            "execution_count": 33,
            "metadata": {},
            "outputs": [
                {
                    "data": {
                        "text/html": "\u003cdiv\u003e\n\u003cstyle scoped\u003e\n    .dataframe tbody tr th:only-of-type {\n        vertical-align: middle;\n    }\n\n    .dataframe tbody tr th {\n        vertical-align: top;\n    }\n\n    .dataframe thead th {\n        text-align: right;\n    }\n\u003c/style\u003e\n\u003ctable border=\"1\" class=\"dataframe\"\u003e\n  \u003cthead\u003e\n    \u003ctr style=\"text-align: right;\"\u003e\n      \u003cth\u003e\u003c/th\u003e\n      \u003cth\u003eUnnamed: 0\u003c/th\u003e\n      \u003cth\u003emovie_name\u003c/th\u003e\n      \u003cth\u003eclassification\u003c/th\u003e\n      \u003cth\u003etickets_sold\u003c/th\u003e\n      \u003cth\u003emax_capacity\u003c/th\u003e\n    \u003c/tr\u003e\n  \u003c/thead\u003e\n  \u003ctbody\u003e\n    \u003ctr\u003e\n      \u003cth\u003e0\u003c/th\u003e\n      \u003ctd\u003e20\u003c/td\u003e\n      \u003ctd\u003eRalph Breaks the Internet\u003c/td\u003e\n      \u003ctd\u003ePG\u003c/td\u003e\n      \u003ctd\u003e103909\u003c/td\u003e\n      \u003ctd\u003e425500\u003c/td\u003e\n    \u003c/tr\u003e\n    \u003ctr\u003e\n      \u003cth\u003e1\u003c/th\u003e\n      \u003ctd\u003e21\u003c/td\u003e\n      \u003ctd\u003eRampage\u003c/td\u003e\n      \u003ctd\u003eM\u003c/td\u003e\n      \u003ctd\u003e102746\u003c/td\u003e\n      \u003ctd\u003e420575\u003c/td\u003e\n    \u003c/tr\u003e\n    \u003ctr\u003e\n      \u003cth\u003e2\u003c/th\u003e\n      \u003ctd\u003e22\u003c/td\u003e\n      \u003ctd\u003eSiberia\u003c/td\u003e\n      \u003ctd\u003eG\u003c/td\u003e\n      \u003ctd\u003e107617\u003c/td\u003e\n      \u003ctd\u003e423925\u003c/td\u003e\n    \u003c/tr\u003e\n    \u003ctr\u003e\n      \u003cth\u003e3\u003c/th\u003e\n      \u003ctd\u003e23\u003c/td\u003e\n      \u003ctd\u003eSicario: Day of the Soldado\u003c/td\u003e\n      \u003ctd\u003eMA15+\u003c/td\u003e\n      \u003ctd\u003e99388\u003c/td\u003e\n      \u003ctd\u003e427950\u003c/td\u003e\n    \u003c/tr\u003e\n    \u003ctr\u003e\n      \u003cth\u003e4\u003c/th\u003e\n      \u003ctd\u003e24\u003c/td\u003e\n      \u003ctd\u003eSpider-Man: Into the Spider-Verse\u003c/td\u003e\n      \u003ctd\u003ePG\u003c/td\u003e\n      \u003ctd\u003e103838\u003c/td\u003e\n      \u003ctd\u003e428375\u003c/td\u003e\n    \u003c/tr\u003e\n    \u003ctr\u003e\n      \u003cth\u003e5\u003c/th\u003e\n      \u003ctd\u003e25\u003c/td\u003e\n      \u003ctd\u003eThe Darkest Minds\u003c/td\u003e\n      \u003ctd\u003eM\u003c/td\u003e\n      \u003ctd\u003e101663\u003c/td\u003e\n      \u003ctd\u003e432075\u003c/td\u003e\n    \u003c/tr\u003e\n    \u003ctr\u003e\n      \u003cth\u003e6\u003c/th\u003e\n      \u003ctd\u003e26\u003c/td\u003e\n      \u003ctd\u003eThe Kissing Booth\u003c/td\u003e\n      \u003ctd\u003eM\u003c/td\u003e\n      \u003ctd\u003e107512\u003c/td\u003e\n      \u003ctd\u003e418750\u003c/td\u003e\n    \u003c/tr\u003e\n    \u003ctr\u003e\n      \u003cth\u003e7\u003c/th\u003e\n      \u003ctd\u003e27\u003c/td\u003e\n      \u003ctd\u003eThe Meg\u003c/td\u003e\n      \u003ctd\u003eM\u003c/td\u003e\n      \u003ctd\u003e108652\u003c/td\u003e\n      \u003ctd\u003e422375\u003c/td\u003e\n    \u003c/tr\u003e\n    \u003ctr\u003e\n      \u003cth\u003e8\u003c/th\u003e\n      \u003ctd\u003e28\u003c/td\u003e\n      \u003ctd\u003eThe Predator\u003c/td\u003e\n      \u003ctd\u003eMA15+\u003c/td\u003e\n      \u003ctd\u003e104824\u003c/td\u003e\n      \u003ctd\u003e424350\u003c/td\u003e\n    \u003c/tr\u003e\n    \u003ctr\u003e\n      \u003cth\u003e9\u003c/th\u003e\n      \u003ctd\u003e29\u003c/td\u003e\n      \u003ctd\u003eVenom\u003c/td\u003e\n      \u003ctd\u003eM\u003c/td\u003e\n      \u003ctd\u003e110053\u003c/td\u003e\n      \u003ctd\u003e424200\u003c/td\u003e\n    \u003c/tr\u003e\n  \u003c/tbody\u003e\n\u003c/table\u003e\n\u003c/div\u003e",
                        "text/plain": "   Unnamed: 0                         movie_name classification  tickets_sold  \\\n0          20          Ralph Breaks the Internet             PG        103909   \n1          21                            Rampage              M        102746   \n2          22                            Siberia              G        107617   \n3          23        Sicario: Day of the Soldado          MA15+         99388   \n4          24  Spider-Man: Into the Spider-Verse             PG        103838   \n5          25                  The Darkest Minds              M        101663   \n6          26                  The Kissing Booth              M        107512   \n7          27                            The Meg              M        108652   \n8          28                       The Predator          MA15+        104824   \n9          29                              Venom              M        110053   \n\n   max_capacity  \n0        425500  \n1        420575  \n2        423925  \n3        427950  \n4        428375  \n5        432075  \n6        418750  \n7        422375  \n8        424350  \n9        424200  "
                    },
                    "execution_count": 33,
                    "metadata": {},
                    "output_type": "execute_result"
                }
            ],
            "source": [
                "# save a DataFrame as a csv file\n",
                "last_ten = total_sales.tail(10)\n",
                "last_ten.to_csv('last_ten.csv')\n",
                "\n",
                "# Read it back in. \n",
                "pd.read_csv('last_ten.csv')"
            ]
        },
        {
            "attachments": {},
            "cell_type": "markdown",
            "metadata": {},
            "source": [
                "Note how we have an `Unnamed: 0` column? That's the index column from when we exported the CSV. To ensure that Pandas do not need to save the index column, you can add the `index=False` to the `.to_csv()` method."
            ]
        },
        {
            "cell_type": "code",
            "execution_count": 34,
            "metadata": {},
            "outputs": [
                {
                    "data": {
                        "text/html": "\u003cdiv\u003e\n\u003cstyle scoped\u003e\n    .dataframe tbody tr th:only-of-type {\n        vertical-align: middle;\n    }\n\n    .dataframe tbody tr th {\n        vertical-align: top;\n    }\n\n    .dataframe thead th {\n        text-align: right;\n    }\n\u003c/style\u003e\n\u003ctable border=\"1\" class=\"dataframe\"\u003e\n  \u003cthead\u003e\n    \u003ctr style=\"text-align: right;\"\u003e\n      \u003cth\u003e\u003c/th\u003e\n      \u003cth\u003emovie_name\u003c/th\u003e\n      \u003cth\u003eclassification\u003c/th\u003e\n      \u003cth\u003etickets_sold\u003c/th\u003e\n      \u003cth\u003emax_capacity\u003c/th\u003e\n    \u003c/tr\u003e\n  \u003c/thead\u003e\n  \u003ctbody\u003e\n    \u003ctr\u003e\n      \u003cth\u003e0\u003c/th\u003e\n      \u003ctd\u003eRalph Breaks the Internet\u003c/td\u003e\n      \u003ctd\u003ePG\u003c/td\u003e\n      \u003ctd\u003e103909\u003c/td\u003e\n      \u003ctd\u003e425500\u003c/td\u003e\n    \u003c/tr\u003e\n    \u003ctr\u003e\n      \u003cth\u003e1\u003c/th\u003e\n      \u003ctd\u003eRampage\u003c/td\u003e\n      \u003ctd\u003eM\u003c/td\u003e\n      \u003ctd\u003e102746\u003c/td\u003e\n      \u003ctd\u003e420575\u003c/td\u003e\n    \u003c/tr\u003e\n    \u003ctr\u003e\n      \u003cth\u003e2\u003c/th\u003e\n      \u003ctd\u003eSiberia\u003c/td\u003e\n      \u003ctd\u003eG\u003c/td\u003e\n      \u003ctd\u003e107617\u003c/td\u003e\n      \u003ctd\u003e423925\u003c/td\u003e\n    \u003c/tr\u003e\n    \u003ctr\u003e\n      \u003cth\u003e3\u003c/th\u003e\n      \u003ctd\u003eSicario: Day of the Soldado\u003c/td\u003e\n      \u003ctd\u003eMA15+\u003c/td\u003e\n      \u003ctd\u003e99388\u003c/td\u003e\n      \u003ctd\u003e427950\u003c/td\u003e\n    \u003c/tr\u003e\n    \u003ctr\u003e\n      \u003cth\u003e4\u003c/th\u003e\n      \u003ctd\u003eSpider-Man: Into the Spider-Verse\u003c/td\u003e\n      \u003ctd\u003ePG\u003c/td\u003e\n      \u003ctd\u003e103838\u003c/td\u003e\n      \u003ctd\u003e428375\u003c/td\u003e\n    \u003c/tr\u003e\n    \u003ctr\u003e\n      \u003cth\u003e5\u003c/th\u003e\n      \u003ctd\u003eThe Darkest Minds\u003c/td\u003e\n      \u003ctd\u003eM\u003c/td\u003e\n      \u003ctd\u003e101663\u003c/td\u003e\n      \u003ctd\u003e432075\u003c/td\u003e\n    \u003c/tr\u003e\n    \u003ctr\u003e\n      \u003cth\u003e6\u003c/th\u003e\n      \u003ctd\u003eThe Kissing Booth\u003c/td\u003e\n      \u003ctd\u003eM\u003c/td\u003e\n      \u003ctd\u003e107512\u003c/td\u003e\n      \u003ctd\u003e418750\u003c/td\u003e\n    \u003c/tr\u003e\n    \u003ctr\u003e\n      \u003cth\u003e7\u003c/th\u003e\n      \u003ctd\u003eThe Meg\u003c/td\u003e\n      \u003ctd\u003eM\u003c/td\u003e\n      \u003ctd\u003e108652\u003c/td\u003e\n      \u003ctd\u003e422375\u003c/td\u003e\n    \u003c/tr\u003e\n    \u003ctr\u003e\n      \u003cth\u003e8\u003c/th\u003e\n      \u003ctd\u003eThe Predator\u003c/td\u003e\n      \u003ctd\u003eMA15+\u003c/td\u003e\n      \u003ctd\u003e104824\u003c/td\u003e\n      \u003ctd\u003e424350\u003c/td\u003e\n    \u003c/tr\u003e\n    \u003ctr\u003e\n      \u003cth\u003e9\u003c/th\u003e\n      \u003ctd\u003eVenom\u003c/td\u003e\n      \u003ctd\u003eM\u003c/td\u003e\n      \u003ctd\u003e110053\u003c/td\u003e\n      \u003ctd\u003e424200\u003c/td\u003e\n    \u003c/tr\u003e\n  \u003c/tbody\u003e\n\u003c/table\u003e\n\u003c/div\u003e",
                        "text/plain": "                          movie_name classification  tickets_sold  \\\n0          Ralph Breaks the Internet             PG        103909   \n1                            Rampage              M        102746   \n2                            Siberia              G        107617   \n3        Sicario: Day of the Soldado          MA15+         99388   \n4  Spider-Man: Into the Spider-Verse             PG        103838   \n5                  The Darkest Minds              M        101663   \n6                  The Kissing Booth              M        107512   \n7                            The Meg              M        108652   \n8                       The Predator          MA15+        104824   \n9                              Venom              M        110053   \n\n   max_capacity  \n0        425500  \n1        420575  \n2        423925  \n3        427950  \n4        428375  \n5        432075  \n6        418750  \n7        422375  \n8        424350  \n9        424200  "
                    },
                    "execution_count": 34,
                    "metadata": {},
                    "output_type": "execute_result"
                }
            ],
            "source": [
                "# save a DataFrame as a csv file\n",
                "last_ten = total_sales.tail(10)\n",
                "last_ten.to_csv('last_ten.csv', index=False)\n",
                "\n",
                "# Read it back in. \n",
                "pd.read_csv('last_ten.csv')"
            ]
        },
        {
            "attachments": {},
            "cell_type": "markdown",
            "metadata": {},
            "source": [
                "\u003cblockquote style=\"padding: 10px; background-color: #FFD392;\"\u003e\n",
                "\n",
                "## Exercise\n",
                "Count the number of movies in each classification. \n",
                "\n",
                "Hint: Try to search up _\"pandas count values in dataframe\"_"
            ]
        },
        {
            "cell_type": "code",
            "execution_count": 42,
            "metadata": {},
            "outputs": [
                {
                    "data": {
                        "text/plain": "M        15\nPG        8\nMA15+     5\nG         2\nName: classification, dtype: int64"
                    },
                    "execution_count": 42,
                    "metadata": {},
                    "output_type": "execute_result"
                }
            ],
            "source": [
                "### ANSWER HERE\n",
                "total_sales['classification'].value_counts()"
            ]
        },
        {
            "attachments": {},
            "cell_type": "markdown",
            "metadata": {},
            "source": [
                "We will now set the `movie_name` as our index.\n",
                "\n",
                "**Follow-up Question: Why would we want to set the name of the movie as the index?**"
            ]
        },
        {
            "cell_type": "code",
            "execution_count": 43,
            "metadata": {},
            "outputs": [
                {
                    "data": {
                        "text/html": "\u003cdiv\u003e\n\u003cstyle scoped\u003e\n    .dataframe tbody tr th:only-of-type {\n        vertical-align: middle;\n    }\n\n    .dataframe tbody tr th {\n        vertical-align: top;\n    }\n\n    .dataframe thead th {\n        text-align: right;\n    }\n\u003c/style\u003e\n\u003ctable border=\"1\" class=\"dataframe\"\u003e\n  \u003cthead\u003e\n    \u003ctr style=\"text-align: right;\"\u003e\n      \u003cth\u003e\u003c/th\u003e\n      \u003cth\u003eclassification\u003c/th\u003e\n      \u003cth\u003etickets_sold\u003c/th\u003e\n      \u003cth\u003emax_capacity\u003c/th\u003e\n    \u003c/tr\u003e\n    \u003ctr\u003e\n      \u003cth\u003emovie_name\u003c/th\u003e\n      \u003cth\u003e\u003c/th\u003e\n      \u003cth\u003e\u003c/th\u003e\n      \u003cth\u003e\u003c/th\u003e\n    \u003c/tr\u003e\n  \u003c/thead\u003e\n  \u003ctbody\u003e\n    \u003ctr\u003e\n      \u003cth\u003eA Quiet Place\u003c/th\u003e\n      \u003ctd\u003eM\u003c/td\u003e\n      \u003ctd\u003e103813\u003c/td\u003e\n      \u003ctd\u003e427725\u003c/td\u003e\n    \u003c/tr\u003e\n    \u003ctr\u003e\n      \u003cth\u003eAlpha\u003c/th\u003e\n      \u003ctd\u003ePG\u003c/td\u003e\n      \u003ctd\u003e103596\u003c/td\u003e\n      \u003ctd\u003e422525\u003c/td\u003e\n    \u003c/tr\u003e\n    \u003ctr\u003e\n      \u003cth\u003eAn Interview with God\u003c/th\u003e\n      \u003ctd\u003ePG\u003c/td\u003e\n      \u003ctd\u003e104182\u003c/td\u003e\n      \u003ctd\u003e426575\u003c/td\u003e\n    \u003c/tr\u003e\n    \u003ctr\u003e\n      \u003cth\u003eAnimal World\u003c/th\u003e\n      \u003ctd\u003eG\u003c/td\u003e\n      \u003ctd\u003e108293\u003c/td\u003e\n      \u003ctd\u003e427300\u003c/td\u003e\n    \u003c/tr\u003e\n    \u003ctr\u003e\n      \u003cth\u003eAnt-Man and the Wasp\u003c/th\u003e\n      \u003ctd\u003ePG\u003c/td\u003e\n      \u003ctd\u003e104631\u003c/td\u003e\n      \u003ctd\u003e429350\u003c/td\u003e\n    \u003c/tr\u003e\n    \u003ctr\u003e\n      \u003cth\u003eAquaman\u003c/th\u003e\n      \u003ctd\u003eM\u003c/td\u003e\n      \u003ctd\u003e102655\u003c/td\u003e\n      \u003ctd\u003e423100\u003c/td\u003e\n    \u003c/tr\u003e\n    \u003ctr\u003e\n      \u003cth\u003eAvengers: Infinity War\u003c/th\u003e\n      \u003ctd\u003eM\u003c/td\u003e\n      \u003ctd\u003e112178\u003c/td\u003e\n      \u003ctd\u003e424325\u003c/td\u003e\n    \u003c/tr\u003e\n    \u003ctr\u003e\n      \u003cth\u003eA-X-L\u003c/th\u003e\n      \u003ctd\u003ePG\u003c/td\u003e\n      \u003ctd\u003e99339\u003c/td\u003e\n      \u003ctd\u003e423200\u003c/td\u003e\n    \u003c/tr\u003e\n    \u003ctr\u003e\n      \u003cth\u003eBetween Worlds\u003c/th\u003e\n      \u003ctd\u003eMA15+\u003c/td\u003e\n      \u003ctd\u003e103208\u003c/td\u003e\n      \u003ctd\u003e423375\u003c/td\u003e\n    \u003c/tr\u003e\n    \u003ctr\u003e\n      \u003cth\u003eBlack Panther\u003c/th\u003e\n      \u003ctd\u003eM\u003c/td\u003e\n      \u003ctd\u003e108831\u003c/td\u003e\n      \u003ctd\u003e423375\u003c/td\u003e\n    \u003c/tr\u003e\n    \u003ctr\u003e\n      \u003cth\u003eBumblebee\u003c/th\u003e\n      \u003ctd\u003eM\u003c/td\u003e\n      \u003ctd\u003e106562\u003c/td\u003e\n      \u003ctd\u003e427950\u003c/td\u003e\n    \u003c/tr\u003e\n    \u003ctr\u003e\n      \u003cth\u003eCreed II\u003c/th\u003e\n      \u003ctd\u003eM\u003c/td\u003e\n      \u003ctd\u003e101628\u003c/td\u003e\n      \u003ctd\u003e424375\u003c/td\u003e\n    \u003c/tr\u003e\n    \u003ctr\u003e\n      \u003cth\u003eDeadpool 2\u003c/th\u003e\n      \u003ctd\u003eMA15+\u003c/td\u003e\n      \u003ctd\u003e106874\u003c/td\u003e\n      \u003ctd\u003e422950\u003c/td\u003e\n    \u003c/tr\u003e\n    \u003ctr\u003e\n      \u003cth\u003eDragon Ball Super: Origin of the Saiyans\u003c/th\u003e\n      \u003ctd\u003eM\u003c/td\u003e\n      \u003ctd\u003e105982\u003c/td\u003e\n      \u003ctd\u003e423225\u003c/td\u003e\n    \u003c/tr\u003e\n    \u003ctr\u003e\n      \u003cth\u003eExtinction\u003c/th\u003e\n      \u003ctd\u003eMA15+\u003c/td\u003e\n      \u003ctd\u003e107638\u003c/td\u003e\n      \u003ctd\u003e421975\u003c/td\u003e\n    \u003c/tr\u003e\n    \u003ctr\u003e\n      \u003cth\u003eFantastic Beasts: The Crimes of Grindelwald\u003c/th\u003e\n      \u003ctd\u003eM\u003c/td\u003e\n      \u003ctd\u003e98950\u003c/td\u003e\n      \u003ctd\u003e426750\u003c/td\u003e\n    \u003c/tr\u003e\n    \u003ctr\u003e\n      \u003cth\u003eHotel Transylvania 3: Summer Vacation\u003c/th\u003e\n      \u003ctd\u003ePG\u003c/td\u003e\n      \u003ctd\u003e103477\u003c/td\u003e\n      \u003ctd\u003e430400\u003c/td\u003e\n    \u003c/tr\u003e\n    \u003ctr\u003e\n      \u003cth\u003eMaze Runner: The Death Cure\u003c/th\u003e\n      \u003ctd\u003eM\u003c/td\u003e\n      \u003ctd\u003e104793\u003c/td\u003e\n      \u003ctd\u003e422375\u003c/td\u003e\n    \u003c/tr\u003e\n    \u003ctr\u003e\n      \u003cth\u003eMy Hero Academia: Two Heroes\u003c/th\u003e\n      \u003ctd\u003eM\u003c/td\u003e\n      \u003ctd\u003e102826\u003c/td\u003e\n      \u003ctd\u003e432225\u003c/td\u003e\n    \u003c/tr\u003e\n    \u003ctr\u003e\n      \u003cth\u003ePeter Rabbit\u003c/th\u003e\n      \u003ctd\u003ePG\u003c/td\u003e\n      \u003ctd\u003e111164\u003c/td\u003e\n      \u003ctd\u003e429075\u003c/td\u003e\n    \u003c/tr\u003e\n    \u003ctr\u003e\n      \u003cth\u003eRalph Breaks the Internet\u003c/th\u003e\n      \u003ctd\u003ePG\u003c/td\u003e\n      \u003ctd\u003e103909\u003c/td\u003e\n      \u003ctd\u003e425500\u003c/td\u003e\n    \u003c/tr\u003e\n    \u003ctr\u003e\n      \u003cth\u003eRampage\u003c/th\u003e\n      \u003ctd\u003eM\u003c/td\u003e\n      \u003ctd\u003e102746\u003c/td\u003e\n      \u003ctd\u003e420575\u003c/td\u003e\n    \u003c/tr\u003e\n    \u003ctr\u003e\n      \u003cth\u003eSiberia\u003c/th\u003e\n      \u003ctd\u003eG\u003c/td\u003e\n      \u003ctd\u003e107617\u003c/td\u003e\n      \u003ctd\u003e423925\u003c/td\u003e\n    \u003c/tr\u003e\n    \u003ctr\u003e\n      \u003cth\u003eSicario: Day of the Soldado\u003c/th\u003e\n      \u003ctd\u003eMA15+\u003c/td\u003e\n      \u003ctd\u003e99388\u003c/td\u003e\n      \u003ctd\u003e427950\u003c/td\u003e\n    \u003c/tr\u003e\n    \u003ctr\u003e\n      \u003cth\u003eSpider-Man: Into the Spider-Verse\u003c/th\u003e\n      \u003ctd\u003ePG\u003c/td\u003e\n      \u003ctd\u003e103838\u003c/td\u003e\n      \u003ctd\u003e428375\u003c/td\u003e\n    \u003c/tr\u003e\n    \u003ctr\u003e\n      \u003cth\u003eThe Darkest Minds\u003c/th\u003e\n      \u003ctd\u003eM\u003c/td\u003e\n      \u003ctd\u003e101663\u003c/td\u003e\n      \u003ctd\u003e432075\u003c/td\u003e\n    \u003c/tr\u003e\n    \u003ctr\u003e\n      \u003cth\u003eThe Kissing Booth\u003c/th\u003e\n      \u003ctd\u003eM\u003c/td\u003e\n      \u003ctd\u003e107512\u003c/td\u003e\n      \u003ctd\u003e418750\u003c/td\u003e\n    \u003c/tr\u003e\n    \u003ctr\u003e\n      \u003cth\u003eThe Meg\u003c/th\u003e\n      \u003ctd\u003eM\u003c/td\u003e\n      \u003ctd\u003e108652\u003c/td\u003e\n      \u003ctd\u003e422375\u003c/td\u003e\n    \u003c/tr\u003e\n    \u003ctr\u003e\n      \u003cth\u003eThe Predator\u003c/th\u003e\n      \u003ctd\u003eMA15+\u003c/td\u003e\n      \u003ctd\u003e104824\u003c/td\u003e\n      \u003ctd\u003e424350\u003c/td\u003e\n    \u003c/tr\u003e\n    \u003ctr\u003e\n      \u003cth\u003eVenom\u003c/th\u003e\n      \u003ctd\u003eM\u003c/td\u003e\n      \u003ctd\u003e110053\u003c/td\u003e\n      \u003ctd\u003e424200\u003c/td\u003e\n    \u003c/tr\u003e\n  \u003c/tbody\u003e\n\u003c/table\u003e\n\u003c/div\u003e",
                        "text/plain": "                                            classification  tickets_sold  \\\nmovie_name                                                                 \nA Quiet Place                                            M        103813   \nAlpha                                                   PG        103596   \nAn Interview with God                                   PG        104182   \nAnimal World                                             G        108293   \nAnt-Man and the Wasp                                    PG        104631   \nAquaman                                                  M        102655   \nAvengers: Infinity War                                   M        112178   \nA-X-L                                                   PG         99339   \nBetween Worlds                                       MA15+        103208   \nBlack Panther                                            M        108831   \nBumblebee                                                M        106562   \nCreed II                                                 M        101628   \nDeadpool 2                                           MA15+        106874   \nDragon Ball Super: Origin of the Saiyans                 M        105982   \nExtinction                                           MA15+        107638   \nFantastic Beasts: The Crimes of Grindelwald              M         98950   \nHotel Transylvania 3: Summer Vacation                   PG        103477   \nMaze Runner: The Death Cure                              M        104793   \nMy Hero Academia: Two Heroes                             M        102826   \nPeter Rabbit                                            PG        111164   \nRalph Breaks the Internet                               PG        103909   \nRampage                                                  M        102746   \nSiberia                                                  G        107617   \nSicario: Day of the Soldado                          MA15+         99388   \nSpider-Man: Into the Spider-Verse                       PG        103838   \nThe Darkest Minds                                        M        101663   \nThe Kissing Booth                                        M        107512   \nThe Meg                                                  M        108652   \nThe Predator                                         MA15+        104824   \nVenom                                                    M        110053   \n\n                                             max_capacity  \nmovie_name                                                 \nA Quiet Place                                      427725  \nAlpha                                              422525  \nAn Interview with God                              426575  \nAnimal World                                       427300  \nAnt-Man and the Wasp                               429350  \nAquaman                                            423100  \nAvengers: Infinity War                             424325  \nA-X-L                                              423200  \nBetween Worlds                                     423375  \nBlack Panther                                      423375  \nBumblebee                                          427950  \nCreed II                                           424375  \nDeadpool 2                                         422950  \nDragon Ball Super: Origin of the Saiyans           423225  \nExtinction                                         421975  \nFantastic Beasts: The Crimes of Grindelwald        426750  \nHotel Transylvania 3: Summer Vacation              430400  \nMaze Runner: The Death Cure                        422375  \nMy Hero Academia: Two Heroes                       432225  \nPeter Rabbit                                       429075  \nRalph Breaks the Internet                          425500  \nRampage                                            420575  \nSiberia                                            423925  \nSicario: Day of the Soldado                        427950  \nSpider-Man: Into the Spider-Verse                  428375  \nThe Darkest Minds                                  432075  \nThe Kissing Booth                                  418750  \nThe Meg                                            422375  \nThe Predator                                       424350  \nVenom                                              424200  "
                    },
                    "execution_count": 43,
                    "metadata": {},
                    "output_type": "execute_result"
                }
            ],
            "source": [
                "# set the name of movie as the index\n",
                "total_sales = total_sales.set_index('movie_name')\n",
                "total_sales"
            ]
        },
        {
            "attachments": {},
            "cell_type": "markdown",
            "metadata": {},
            "source": [
                "\u003cblockquote style=\"padding: 10px; background-color: #FFD392;\"\u003e\n",
                "\n",
                "## Exercise\n",
                "1. Calculate the occupancy rate for each movie. The occupancy rate is the number of tickets sold divided by the max capacity. Output this to a `'occupancy_rate'` column. Round the result to two decimal places using the `round()` function.\n",
                "\n",
                "2. Return only the `classification` and `'occupancy_rate'` of `'Ralph Breaks the Internet'` \n",
                "\n",
                "3. Get data row (known as an *instance*) of the movie with the highest occupancy rate. You may want to sort your values first using `df.sort_values(by=COLUMN)`\n",
                "\n",
                "4. Find the subset of movies that have a `PG` classification."
            ]
        },
        {
            "cell_type": "code",
            "execution_count": 58,
            "metadata": {},
            "outputs": [
                {
                    "data": {
                        "text/plain": "movie_name\nA Quiet Place                                  0.76\nAlpha                                          0.75\nAn Interview with God                          0.76\nAnimal World                                   0.75\nAnt-Man and the Wasp                           0.76\nAquaman                                        0.76\nAvengers: Infinity War                         0.74\nA-X-L                                          0.77\nBetween Worlds                                 0.76\nBlack Panther                                  0.74\nBumblebee                                      0.75\nCreed II                                       0.76\nDeadpool 2                                     0.75\nDragon Ball Super: Origin of the Saiyans       0.75\nExtinction                                     0.74\nFantastic Beasts: The Crimes of Grindelwald    0.77\nHotel Transylvania 3: Summer Vacation          0.76\nMaze Runner: The Death Cure                    0.75\nMy Hero Academia: Two Heroes                   0.76\nPeter Rabbit                                   0.74\nRalph Breaks the Internet                      0.76\nRampage                                        0.76\nSiberia                                        0.75\nSicario: Day of the Soldado                    0.77\nSpider-Man: Into the Spider-Verse              0.76\nThe Darkest Minds                              0.76\nThe Kissing Booth                              0.74\nThe Meg                                        0.74\nThe Predator                                   0.75\nVenom                                          0.74\nName: occupancy_rate, dtype: float64"
                    },
                    "execution_count": 58,
                    "metadata": {},
                    "output_type": "execute_result"
                }
            ],
            "source": [
                "### ANSWER 1 HERE\n",
                "total_sales['occupancy_rate'] = round((total_sales['max_capacity']-total_sales['tickets_sold'])/total_sales['max_capacity'],2)\n",
                "total_sales['occupancy_rate']"
            ]
        },
        {
            "cell_type": "code",
            "execution_count": 60,
            "metadata": {},
            "outputs": [
                {
                    "data": {
                        "text/plain": "classification      PG\noccupancy_rate    0.76\nName: Ralph Breaks the Internet, dtype: object"
                    },
                    "execution_count": 60,
                    "metadata": {},
                    "output_type": "execute_result"
                }
            ],
            "source": [
                "### ANSWER 2 HERE\n",
                "total_sales.loc['Ralph Breaks the Internet'][['classification','occupancy_rate']]"
            ]
        },
        {
            "cell_type": "code",
            "execution_count": 65,
            "metadata": {},
            "outputs": [
                {
                    "data": {
                        "text/plain": "classification        PG\ntickets_sold       99339\nmax_capacity      423200\noccupancy_rate      0.77\nName: A-X-L, dtype: object"
                    },
                    "execution_count": 65,
                    "metadata": {},
                    "output_type": "execute_result"
                }
            ],
            "source": [
                "### ANSWER 3 HERE\n",
                "total_sales.sort_values('occupancy_rate').iloc[-1]"
            ]
        },
        {
            "cell_type": "code",
            "execution_count": 62,
            "metadata": {},
            "outputs": [
                {
                    "data": {
                        "text/html": "\u003cdiv\u003e\n\u003cstyle scoped\u003e\n    .dataframe tbody tr th:only-of-type {\n        vertical-align: middle;\n    }\n\n    .dataframe tbody tr th {\n        vertical-align: top;\n    }\n\n    .dataframe thead th {\n        text-align: right;\n    }\n\u003c/style\u003e\n\u003ctable border=\"1\" class=\"dataframe\"\u003e\n  \u003cthead\u003e\n    \u003ctr style=\"text-align: right;\"\u003e\n      \u003cth\u003e\u003c/th\u003e\n      \u003cth\u003eclassification\u003c/th\u003e\n      \u003cth\u003etickets_sold\u003c/th\u003e\n      \u003cth\u003emax_capacity\u003c/th\u003e\n      \u003cth\u003eoccupancy_rate\u003c/th\u003e\n    \u003c/tr\u003e\n    \u003ctr\u003e\n      \u003cth\u003emovie_name\u003c/th\u003e\n      \u003cth\u003e\u003c/th\u003e\n      \u003cth\u003e\u003c/th\u003e\n      \u003cth\u003e\u003c/th\u003e\n      \u003cth\u003e\u003c/th\u003e\n    \u003c/tr\u003e\n  \u003c/thead\u003e\n  \u003ctbody\u003e\n    \u003ctr\u003e\n      \u003cth\u003eAlpha\u003c/th\u003e\n      \u003ctd\u003ePG\u003c/td\u003e\n      \u003ctd\u003e103596\u003c/td\u003e\n      \u003ctd\u003e422525\u003c/td\u003e\n      \u003ctd\u003e0.75\u003c/td\u003e\n    \u003c/tr\u003e\n    \u003ctr\u003e\n      \u003cth\u003eAn Interview with God\u003c/th\u003e\n      \u003ctd\u003ePG\u003c/td\u003e\n      \u003ctd\u003e104182\u003c/td\u003e\n      \u003ctd\u003e426575\u003c/td\u003e\n      \u003ctd\u003e0.76\u003c/td\u003e\n    \u003c/tr\u003e\n    \u003ctr\u003e\n      \u003cth\u003eAnt-Man and the Wasp\u003c/th\u003e\n      \u003ctd\u003ePG\u003c/td\u003e\n      \u003ctd\u003e104631\u003c/td\u003e\n      \u003ctd\u003e429350\u003c/td\u003e\n      \u003ctd\u003e0.76\u003c/td\u003e\n    \u003c/tr\u003e\n    \u003ctr\u003e\n      \u003cth\u003eA-X-L\u003c/th\u003e\n      \u003ctd\u003ePG\u003c/td\u003e\n      \u003ctd\u003e99339\u003c/td\u003e\n      \u003ctd\u003e423200\u003c/td\u003e\n      \u003ctd\u003e0.77\u003c/td\u003e\n    \u003c/tr\u003e\n    \u003ctr\u003e\n      \u003cth\u003eHotel Transylvania 3: Summer Vacation\u003c/th\u003e\n      \u003ctd\u003ePG\u003c/td\u003e\n      \u003ctd\u003e103477\u003c/td\u003e\n      \u003ctd\u003e430400\u003c/td\u003e\n      \u003ctd\u003e0.76\u003c/td\u003e\n    \u003c/tr\u003e\n    \u003ctr\u003e\n      \u003cth\u003ePeter Rabbit\u003c/th\u003e\n      \u003ctd\u003ePG\u003c/td\u003e\n      \u003ctd\u003e111164\u003c/td\u003e\n      \u003ctd\u003e429075\u003c/td\u003e\n      \u003ctd\u003e0.74\u003c/td\u003e\n    \u003c/tr\u003e\n    \u003ctr\u003e\n      \u003cth\u003eRalph Breaks the Internet\u003c/th\u003e\n      \u003ctd\u003ePG\u003c/td\u003e\n      \u003ctd\u003e103909\u003c/td\u003e\n      \u003ctd\u003e425500\u003c/td\u003e\n      \u003ctd\u003e0.76\u003c/td\u003e\n    \u003c/tr\u003e\n    \u003ctr\u003e\n      \u003cth\u003eSpider-Man: Into the Spider-Verse\u003c/th\u003e\n      \u003ctd\u003ePG\u003c/td\u003e\n      \u003ctd\u003e103838\u003c/td\u003e\n      \u003ctd\u003e428375\u003c/td\u003e\n      \u003ctd\u003e0.76\u003c/td\u003e\n    \u003c/tr\u003e\n  \u003c/tbody\u003e\n\u003c/table\u003e\n\u003c/div\u003e",
                        "text/plain": "                                      classification  tickets_sold  \\\nmovie_name                                                           \nAlpha                                             PG        103596   \nAn Interview with God                             PG        104182   \nAnt-Man and the Wasp                              PG        104631   \nA-X-L                                             PG         99339   \nHotel Transylvania 3: Summer Vacation             PG        103477   \nPeter Rabbit                                      PG        111164   \nRalph Breaks the Internet                         PG        103909   \nSpider-Man: Into the Spider-Verse                 PG        103838   \n\n                                       max_capacity  occupancy_rate  \nmovie_name                                                           \nAlpha                                        422525            0.75  \nAn Interview with God                        426575            0.76  \nAnt-Man and the Wasp                         429350            0.76  \nA-X-L                                        423200            0.77  \nHotel Transylvania 3: Summer Vacation        430400            0.76  \nPeter Rabbit                                 429075            0.74  \nRalph Breaks the Internet                    425500            0.76  \nSpider-Man: Into the Spider-Verse            428375            0.76  "
                    },
                    "execution_count": 62,
                    "metadata": {},
                    "output_type": "execute_result"
                }
            ],
            "source": [
                "### ANSWER 4 HERE\n",
                "total_sales[total_sales['classification'] == 'PG']"
            ]
        },
        {
            "attachments": {},
            "cell_type": "markdown",
            "metadata": {},
            "source": [
                "### Advanced: Sort the data over multiple columns\n",
                "To sort values over multiple columns, you can pass through a `list` of columns (in order) to the `by=` argument.\n",
                "\n",
                "Here's an example of sorting by:\n",
                "1. Classification ascending\n",
                "2. Occupancy rate descending\n",
                "3. Tickets sold descending"
            ]
        },
        {
            "cell_type": "code",
            "execution_count": 66,
            "metadata": {},
            "outputs": [
                {
                    "data": {
                        "text/html": "\u003cdiv\u003e\n\u003cstyle scoped\u003e\n    .dataframe tbody tr th:only-of-type {\n        vertical-align: middle;\n    }\n\n    .dataframe tbody tr th {\n        vertical-align: top;\n    }\n\n    .dataframe thead th {\n        text-align: right;\n    }\n\u003c/style\u003e\n\u003ctable border=\"1\" class=\"dataframe\"\u003e\n  \u003cthead\u003e\n    \u003ctr style=\"text-align: right;\"\u003e\n      \u003cth\u003e\u003c/th\u003e\n      \u003cth\u003eclassification\u003c/th\u003e\n      \u003cth\u003etickets_sold\u003c/th\u003e\n      \u003cth\u003eoccupancy_rate\u003c/th\u003e\n    \u003c/tr\u003e\n    \u003ctr\u003e\n      \u003cth\u003emovie_name\u003c/th\u003e\n      \u003cth\u003e\u003c/th\u003e\n      \u003cth\u003e\u003c/th\u003e\n      \u003cth\u003e\u003c/th\u003e\n    \u003c/tr\u003e\n  \u003c/thead\u003e\n  \u003ctbody\u003e\n    \u003ctr\u003e\n      \u003cth\u003eAnimal World\u003c/th\u003e\n      \u003ctd\u003eG\u003c/td\u003e\n      \u003ctd\u003e108293\u003c/td\u003e\n      \u003ctd\u003e0.75\u003c/td\u003e\n    \u003c/tr\u003e\n    \u003ctr\u003e\n      \u003cth\u003eSiberia\u003c/th\u003e\n      \u003ctd\u003eG\u003c/td\u003e\n      \u003ctd\u003e107617\u003c/td\u003e\n      \u003ctd\u003e0.75\u003c/td\u003e\n    \u003c/tr\u003e\n    \u003ctr\u003e\n      \u003cth\u003eFantastic Beasts: The Crimes of Grindelwald\u003c/th\u003e\n      \u003ctd\u003eM\u003c/td\u003e\n      \u003ctd\u003e98950\u003c/td\u003e\n      \u003ctd\u003e0.77\u003c/td\u003e\n    \u003c/tr\u003e\n    \u003ctr\u003e\n      \u003cth\u003eA Quiet Place\u003c/th\u003e\n      \u003ctd\u003eM\u003c/td\u003e\n      \u003ctd\u003e103813\u003c/td\u003e\n      \u003ctd\u003e0.76\u003c/td\u003e\n    \u003c/tr\u003e\n    \u003ctr\u003e\n      \u003cth\u003eMy Hero Academia: Two Heroes\u003c/th\u003e\n      \u003ctd\u003eM\u003c/td\u003e\n      \u003ctd\u003e102826\u003c/td\u003e\n      \u003ctd\u003e0.76\u003c/td\u003e\n    \u003c/tr\u003e\n    \u003ctr\u003e\n      \u003cth\u003eRampage\u003c/th\u003e\n      \u003ctd\u003eM\u003c/td\u003e\n      \u003ctd\u003e102746\u003c/td\u003e\n      \u003ctd\u003e0.76\u003c/td\u003e\n    \u003c/tr\u003e\n    \u003ctr\u003e\n      \u003cth\u003eAquaman\u003c/th\u003e\n      \u003ctd\u003eM\u003c/td\u003e\n      \u003ctd\u003e102655\u003c/td\u003e\n      \u003ctd\u003e0.76\u003c/td\u003e\n    \u003c/tr\u003e\n    \u003ctr\u003e\n      \u003cth\u003eThe Darkest Minds\u003c/th\u003e\n      \u003ctd\u003eM\u003c/td\u003e\n      \u003ctd\u003e101663\u003c/td\u003e\n      \u003ctd\u003e0.76\u003c/td\u003e\n    \u003c/tr\u003e\n    \u003ctr\u003e\n      \u003cth\u003eCreed II\u003c/th\u003e\n      \u003ctd\u003eM\u003c/td\u003e\n      \u003ctd\u003e101628\u003c/td\u003e\n      \u003ctd\u003e0.76\u003c/td\u003e\n    \u003c/tr\u003e\n    \u003ctr\u003e\n      \u003cth\u003eBumblebee\u003c/th\u003e\n      \u003ctd\u003eM\u003c/td\u003e\n      \u003ctd\u003e106562\u003c/td\u003e\n      \u003ctd\u003e0.75\u003c/td\u003e\n    \u003c/tr\u003e\n    \u003ctr\u003e\n      \u003cth\u003eDragon Ball Super: Origin of the Saiyans\u003c/th\u003e\n      \u003ctd\u003eM\u003c/td\u003e\n      \u003ctd\u003e105982\u003c/td\u003e\n      \u003ctd\u003e0.75\u003c/td\u003e\n    \u003c/tr\u003e\n    \u003ctr\u003e\n      \u003cth\u003eMaze Runner: The Death Cure\u003c/th\u003e\n      \u003ctd\u003eM\u003c/td\u003e\n      \u003ctd\u003e104793\u003c/td\u003e\n      \u003ctd\u003e0.75\u003c/td\u003e\n    \u003c/tr\u003e\n    \u003ctr\u003e\n      \u003cth\u003eAvengers: Infinity War\u003c/th\u003e\n      \u003ctd\u003eM\u003c/td\u003e\n      \u003ctd\u003e112178\u003c/td\u003e\n      \u003ctd\u003e0.74\u003c/td\u003e\n    \u003c/tr\u003e\n    \u003ctr\u003e\n      \u003cth\u003eVenom\u003c/th\u003e\n      \u003ctd\u003eM\u003c/td\u003e\n      \u003ctd\u003e110053\u003c/td\u003e\n      \u003ctd\u003e0.74\u003c/td\u003e\n    \u003c/tr\u003e\n    \u003ctr\u003e\n      \u003cth\u003eBlack Panther\u003c/th\u003e\n      \u003ctd\u003eM\u003c/td\u003e\n      \u003ctd\u003e108831\u003c/td\u003e\n      \u003ctd\u003e0.74\u003c/td\u003e\n    \u003c/tr\u003e\n    \u003ctr\u003e\n      \u003cth\u003eThe Meg\u003c/th\u003e\n      \u003ctd\u003eM\u003c/td\u003e\n      \u003ctd\u003e108652\u003c/td\u003e\n      \u003ctd\u003e0.74\u003c/td\u003e\n    \u003c/tr\u003e\n    \u003ctr\u003e\n      \u003cth\u003eThe Kissing Booth\u003c/th\u003e\n      \u003ctd\u003eM\u003c/td\u003e\n      \u003ctd\u003e107512\u003c/td\u003e\n      \u003ctd\u003e0.74\u003c/td\u003e\n    \u003c/tr\u003e\n    \u003ctr\u003e\n      \u003cth\u003eSicario: Day of the Soldado\u003c/th\u003e\n      \u003ctd\u003eMA15+\u003c/td\u003e\n      \u003ctd\u003e99388\u003c/td\u003e\n      \u003ctd\u003e0.77\u003c/td\u003e\n    \u003c/tr\u003e\n    \u003ctr\u003e\n      \u003cth\u003eBetween Worlds\u003c/th\u003e\n      \u003ctd\u003eMA15+\u003c/td\u003e\n      \u003ctd\u003e103208\u003c/td\u003e\n      \u003ctd\u003e0.76\u003c/td\u003e\n    \u003c/tr\u003e\n    \u003ctr\u003e\n      \u003cth\u003eDeadpool 2\u003c/th\u003e\n      \u003ctd\u003eMA15+\u003c/td\u003e\n      \u003ctd\u003e106874\u003c/td\u003e\n      \u003ctd\u003e0.75\u003c/td\u003e\n    \u003c/tr\u003e\n    \u003ctr\u003e\n      \u003cth\u003eThe Predator\u003c/th\u003e\n      \u003ctd\u003eMA15+\u003c/td\u003e\n      \u003ctd\u003e104824\u003c/td\u003e\n      \u003ctd\u003e0.75\u003c/td\u003e\n    \u003c/tr\u003e\n    \u003ctr\u003e\n      \u003cth\u003eExtinction\u003c/th\u003e\n      \u003ctd\u003eMA15+\u003c/td\u003e\n      \u003ctd\u003e107638\u003c/td\u003e\n      \u003ctd\u003e0.74\u003c/td\u003e\n    \u003c/tr\u003e\n    \u003ctr\u003e\n      \u003cth\u003eA-X-L\u003c/th\u003e\n      \u003ctd\u003ePG\u003c/td\u003e\n      \u003ctd\u003e99339\u003c/td\u003e\n      \u003ctd\u003e0.77\u003c/td\u003e\n    \u003c/tr\u003e\n    \u003ctr\u003e\n      \u003cth\u003eAnt-Man and the Wasp\u003c/th\u003e\n      \u003ctd\u003ePG\u003c/td\u003e\n      \u003ctd\u003e104631\u003c/td\u003e\n      \u003ctd\u003e0.76\u003c/td\u003e\n    \u003c/tr\u003e\n    \u003ctr\u003e\n      \u003cth\u003eAn Interview with God\u003c/th\u003e\n      \u003ctd\u003ePG\u003c/td\u003e\n      \u003ctd\u003e104182\u003c/td\u003e\n      \u003ctd\u003e0.76\u003c/td\u003e\n    \u003c/tr\u003e\n    \u003ctr\u003e\n      \u003cth\u003eRalph Breaks the Internet\u003c/th\u003e\n      \u003ctd\u003ePG\u003c/td\u003e\n      \u003ctd\u003e103909\u003c/td\u003e\n      \u003ctd\u003e0.76\u003c/td\u003e\n    \u003c/tr\u003e\n    \u003ctr\u003e\n      \u003cth\u003eSpider-Man: Into the Spider-Verse\u003c/th\u003e\n      \u003ctd\u003ePG\u003c/td\u003e\n      \u003ctd\u003e103838\u003c/td\u003e\n      \u003ctd\u003e0.76\u003c/td\u003e\n    \u003c/tr\u003e\n    \u003ctr\u003e\n      \u003cth\u003eHotel Transylvania 3: Summer Vacation\u003c/th\u003e\n      \u003ctd\u003ePG\u003c/td\u003e\n      \u003ctd\u003e103477\u003c/td\u003e\n      \u003ctd\u003e0.76\u003c/td\u003e\n    \u003c/tr\u003e\n    \u003ctr\u003e\n      \u003cth\u003eAlpha\u003c/th\u003e\n      \u003ctd\u003ePG\u003c/td\u003e\n      \u003ctd\u003e103596\u003c/td\u003e\n      \u003ctd\u003e0.75\u003c/td\u003e\n    \u003c/tr\u003e\n    \u003ctr\u003e\n      \u003cth\u003ePeter Rabbit\u003c/th\u003e\n      \u003ctd\u003ePG\u003c/td\u003e\n      \u003ctd\u003e111164\u003c/td\u003e\n      \u003ctd\u003e0.74\u003c/td\u003e\n    \u003c/tr\u003e\n  \u003c/tbody\u003e\n\u003c/table\u003e\n\u003c/div\u003e",
                        "text/plain": "                                            classification  tickets_sold  \\\nmovie_name                                                                 \nAnimal World                                             G        108293   \nSiberia                                                  G        107617   \nFantastic Beasts: The Crimes of Grindelwald              M         98950   \nA Quiet Place                                            M        103813   \nMy Hero Academia: Two Heroes                             M        102826   \nRampage                                                  M        102746   \nAquaman                                                  M        102655   \nThe Darkest Minds                                        M        101663   \nCreed II                                                 M        101628   \nBumblebee                                                M        106562   \nDragon Ball Super: Origin of the Saiyans                 M        105982   \nMaze Runner: The Death Cure                              M        104793   \nAvengers: Infinity War                                   M        112178   \nVenom                                                    M        110053   \nBlack Panther                                            M        108831   \nThe Meg                                                  M        108652   \nThe Kissing Booth                                        M        107512   \nSicario: Day of the Soldado                          MA15+         99388   \nBetween Worlds                                       MA15+        103208   \nDeadpool 2                                           MA15+        106874   \nThe Predator                                         MA15+        104824   \nExtinction                                           MA15+        107638   \nA-X-L                                                   PG         99339   \nAnt-Man and the Wasp                                    PG        104631   \nAn Interview with God                                   PG        104182   \nRalph Breaks the Internet                               PG        103909   \nSpider-Man: Into the Spider-Verse                       PG        103838   \nHotel Transylvania 3: Summer Vacation                   PG        103477   \nAlpha                                                   PG        103596   \nPeter Rabbit                                            PG        111164   \n\n                                             occupancy_rate  \nmovie_name                                                   \nAnimal World                                           0.75  \nSiberia                                                0.75  \nFantastic Beasts: The Crimes of Grindelwald            0.77  \nA Quiet Place                                          0.76  \nMy Hero Academia: Two Heroes                           0.76  \nRampage                                                0.76  \nAquaman                                                0.76  \nThe Darkest Minds                                      0.76  \nCreed II                                               0.76  \nBumblebee                                              0.75  \nDragon Ball Super: Origin of the Saiyans               0.75  \nMaze Runner: The Death Cure                            0.75  \nAvengers: Infinity War                                 0.74  \nVenom                                                  0.74  \nBlack Panther                                          0.74  \nThe Meg                                                0.74  \nThe Kissing Booth                                      0.74  \nSicario: Day of the Soldado                            0.77  \nBetween Worlds                                         0.76  \nDeadpool 2                                             0.75  \nThe Predator                                           0.75  \nExtinction                                             0.74  \nA-X-L                                                  0.77  \nAnt-Man and the Wasp                                   0.76  \nAn Interview with God                                  0.76  \nRalph Breaks the Internet                              0.76  \nSpider-Man: Into the Spider-Verse                      0.76  \nHotel Transylvania 3: Summer Vacation                  0.76  \nAlpha                                                  0.75  \nPeter Rabbit                                           0.74  "
                    },
                    "execution_count": 66,
                    "metadata": {},
                    "output_type": "execute_result"
                }
            ],
            "source": [
                "total_sales.sort_values(['classification', 'occupancy_rate', 'tickets_sold'],\n",
                "                       ascending=[True, False, False]).drop(['max_capacity'], axis='columns')"
            ]
        },
        {
            "attachments": {},
            "cell_type": "markdown",
            "metadata": {},
            "source": [
                "## \u003cu\u003eConcept: Group by\u003c/u\u003e\n",
                "The `groupby` method lets you separate the data into different groups based off shared characteristics (akin to `itertools.groupby`). For example, we could group countries by region or income range, then analyse those groups individually.  \n",
                "\n",
                "The official documentation on groupby can be found [here](https://pandas.pydata.org/pandas-docs/stable/user_guide/groupby.html). [This tutorial](https://www.marsja.se/python-pandas-groupby-tutorial-examples/) is also well worth reading.\n",
                "\n",
                "\n",
                "Here's an example of finding the total number of tickets sold for each classification."
            ]
        },
        {
            "cell_type": "code",
            "execution_count": 67,
            "metadata": {},
            "outputs": [
                {
                    "data": {
                        "text/plain": "classification\nG         215910\nM        1578844\nMA15+     521932\nPG        834136\nName: tickets_sold, dtype: int64"
                    },
                    "execution_count": 67,
                    "metadata": {},
                    "output_type": "execute_result"
                }
            ],
            "source": [
                "total_sales.groupby('classification')['tickets_sold'].sum()"
            ]
        },
        {
            "attachments": {},
            "cell_type": "markdown",
            "metadata": {},
            "source": [
                "\u003cblockquote style=\"padding: 10px; background-color: #FFD392;\"\u003e\n",
                "\n",
                "## Exercise\n",
                "1. How many movies are there in each classification category? Think of key search terms such as \"size\" or \"count\".\n",
                "\n",
                "2. Then, for each category, what is the `mean` number of tickets sold?"
            ]
        },
        {
            "cell_type": "code",
            "execution_count": 83,
            "metadata": {},
            "outputs": [
                {
                    "data": {
                        "text/plain": "M        15\nPG        8\nMA15+     5\nG         2\nName: classification, dtype: int64"
                    },
                    "execution_count": 83,
                    "metadata": {},
                    "output_type": "execute_result"
                }
            ],
            "source": [
                "### ANSWER 1 HERE\n",
                "total_sales.reset_index(drop=True)['classification'].value_counts()"
            ]
        },
        {
            "cell_type": "code",
            "execution_count": 84,
            "metadata": {},
            "outputs": [
                {
                    "data": {
                        "text/plain": "classification\nG         215910\nM        1578844\nMA15+     521932\nPG        834136\nName: tickets_sold, dtype: int64"
                    },
                    "execution_count": 84,
                    "metadata": {},
                    "output_type": "execute_result"
                }
            ],
            "source": [
                "### ANSWER 2 HERE\n",
                "total_sales.groupby(['classification'])['tickets_sold'].sum()"
            ]
        },
        {
            "attachments": {},
            "cell_type": "markdown",
            "metadata": {},
            "source": [
                "Finally, an advanced use case of groupby. Here, we are:\n",
                "- Getting the max capacity possible for the classification;\n",
                "- the average number of tickets sold for the classification;\n",
                "- and the average occupancy rate.\n",
                "\n",
                "The syntax for this is a dictionary using the `.agg()` method where the:\n",
                "- `key` corresponds to the column\n",
                "- `value` corresponds to the type of aggregation\n",
                "\n",
                "View more here: https://pandas.pydata.org/pandas-docs/stable/reference/api/pandas.DataFrame.agg.html"
            ]
        },
        {
            "cell_type": "code",
            "execution_count": 85,
            "metadata": {},
            "outputs": [
                {
                    "data": {
                        "text/html": "\u003cdiv\u003e\n\u003cstyle scoped\u003e\n    .dataframe tbody tr th:only-of-type {\n        vertical-align: middle;\n    }\n\n    .dataframe tbody tr th {\n        vertical-align: top;\n    }\n\n    .dataframe thead th {\n        text-align: right;\n    }\n\u003c/style\u003e\n\u003ctable border=\"1\" class=\"dataframe\"\u003e\n  \u003cthead\u003e\n    \u003ctr style=\"text-align: right;\"\u003e\n      \u003cth\u003e\u003c/th\u003e\n      \u003cth\u003emax_capacity\u003c/th\u003e\n      \u003cth\u003etickets_sold\u003c/th\u003e\n      \u003cth\u003eoccupancy_rate\u003c/th\u003e\n    \u003c/tr\u003e\n    \u003ctr\u003e\n      \u003cth\u003eclassification\u003c/th\u003e\n      \u003cth\u003e\u003c/th\u003e\n      \u003cth\u003e\u003c/th\u003e\n      \u003cth\u003e\u003c/th\u003e\n    \u003c/tr\u003e\n  \u003c/thead\u003e\n  \u003ctbody\u003e\n    \u003ctr\u003e\n      \u003cth\u003eG\u003c/th\u003e\n      \u003ctd\u003e427300\u003c/td\u003e\n      \u003ctd\u003e107955.000000\u003c/td\u003e\n      \u003ctd\u003e0.7500\u003c/td\u003e\n    \u003c/tr\u003e\n    \u003ctr\u003e\n      \u003cth\u003eM\u003c/th\u003e\n      \u003ctd\u003e432225\u003c/td\u003e\n      \u003ctd\u003e105256.266667\u003c/td\u003e\n      \u003ctd\u003e0.7520\u003c/td\u003e\n    \u003c/tr\u003e\n    \u003ctr\u003e\n      \u003cth\u003eMA15+\u003c/th\u003e\n      \u003ctd\u003e427950\u003c/td\u003e\n      \u003ctd\u003e104386.400000\u003c/td\u003e\n      \u003ctd\u003e0.7540\u003c/td\u003e\n    \u003c/tr\u003e\n    \u003ctr\u003e\n      \u003cth\u003ePG\u003c/th\u003e\n      \u003ctd\u003e430400\u003c/td\u003e\n      \u003ctd\u003e104267.000000\u003c/td\u003e\n      \u003ctd\u003e0.7575\u003c/td\u003e\n    \u003c/tr\u003e\n  \u003c/tbody\u003e\n\u003c/table\u003e\n\u003c/div\u003e",
                        "text/plain": "                max_capacity   tickets_sold  occupancy_rate\nclassification                                             \nG                     427300  107955.000000          0.7500\nM                     432225  105256.266667          0.7520\nMA15+                 427950  104386.400000          0.7540\nPG                    430400  104267.000000          0.7575"
                    },
                    "execution_count": 85,
                    "metadata": {},
                    "output_type": "execute_result"
                }
            ],
            "source": [
                "total_sales.groupby('classification').agg({'max_capacity': 'max', 'tickets_sold': 'mean', 'occupancy_rate': 'mean'})"
            ]
        },
        {
            "attachments": {},
            "cell_type": "markdown",
            "metadata": {},
            "source": [
                "# Challenge questions\n",
                "\n",
                "We don't give the answers to these questions, but we encourage students to discuss among themselves using the Ed forum. Some questions require use of functions or methods not covered in this tutorial, and some questions are open-ended (no fixed answer, depending on their arguments). We have provided this to give students a chance to get used to searching up the documentation."
            ]
        },
        {
            "attachments": {},
            "cell_type": "markdown",
            "metadata": {},
            "source": [
                "1. Suppose that the average purchase price per ticket is `$22.00`, what's the average dollar sales for `MA15+` movies? Compared this to the median dollar sales for `M`-rated movies.\n",
                "\n",
                "2. How many movies have a title that begins with `\"T\"`? \n",
                "\n",
                "3. Which movies tend to have better occupancy rate: low sales with low capacity, or high sales with high capacity?\n",
                "\n",
                "4. How many movies have a below-average occupancy rate in each classification category?"
            ]
        }
    ]
}
